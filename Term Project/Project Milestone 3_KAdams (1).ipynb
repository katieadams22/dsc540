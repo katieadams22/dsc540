{
 "cells": [
  {
   "cell_type": "markdown",
   "id": "09df90b2",
   "metadata": {},
   "source": [
    "# Cleaning/Formatting Website Data"
   ]
  },
  {
   "cell_type": "markdown",
   "id": "a91c7f72",
   "metadata": {},
   "source": [
    "## Perform at least 5 data transformation and/or cleansing steps to your website data. For example:\n",
    "### Replace Headers\n",
    "### Format data into a more readable format\n",
    "### Identify outliers and bad data\n",
    "### Find duplicates\n",
    "### Fix casing or inconsistent values\n",
    "### Conduct Fuzzy Matching"
   ]
  },
  {
   "cell_type": "code",
   "execution_count": null,
   "id": "45b369f3",
   "metadata": {},
   "outputs": [],
   "source": [
    "## Import libraries and data"
   ]
  },
  {
   "cell_type": "code",
   "execution_count": 1,
   "id": "1f2f13a0",
   "metadata": {},
   "outputs": [],
   "source": [
    "# Import BeautifulSoup from bs4 to get data out of HTML and XML and pandas libraries\n",
    "from bs4 import BeautifulSoup\n",
    "import pandas as pd"
   ]
  },
  {
   "cell_type": "code",
   "execution_count": 3,
   "id": "3704d9e4",
   "metadata": {},
   "outputs": [
    {
     "data": {
      "text/html": [
       "<div>\n",
       "<style scoped>\n",
       "    .dataframe tbody tr th:only-of-type {\n",
       "        vertical-align: middle;\n",
       "    }\n",
       "\n",
       "    .dataframe tbody tr th {\n",
       "        vertical-align: top;\n",
       "    }\n",
       "\n",
       "    .dataframe thead th {\n",
       "        text-align: right;\n",
       "    }\n",
       "</style>\n",
       "<table border=\"1\" class=\"dataframe\">\n",
       "  <thead>\n",
       "    <tr style=\"text-align: right;\">\n",
       "      <th></th>\n",
       "      <th>Rank</th>\n",
       "      <th>Team</th>\n",
       "      <th>Roster</th>\n",
       "      <th>Active Cash</th>\n",
       "      <th>Disabled List</th>\n",
       "      <th>Retained</th>\n",
       "      <th>Buried</th>\n",
       "      <th>Suspended</th>\n",
       "      <th>2021 Total Cash</th>\n",
       "    </tr>\n",
       "  </thead>\n",
       "  <tbody>\n",
       "    <tr>\n",
       "      <th>0</th>\n",
       "      <td>1</td>\n",
       "      <td>Los Angeles Dodgers  LAD</td>\n",
       "      <td>28.0</td>\n",
       "      <td>$183,997,657</td>\n",
       "      <td>$13,482,148</td>\n",
       "      <td>$2,150,521</td>\n",
       "      <td>$24,640,500</td>\n",
       "      <td>NaN</td>\n",
       "      <td>$223,959,414</td>\n",
       "    </tr>\n",
       "    <tr>\n",
       "      <th>1</th>\n",
       "      <td>2</td>\n",
       "      <td>New York Yankees  NYY</td>\n",
       "      <td>28.0</td>\n",
       "      <td>$166,248,586</td>\n",
       "      <td>$32,986,698</td>\n",
       "      <td>$9,779,712</td>\n",
       "      <td>$14,752,375</td>\n",
       "      <td>NaN</td>\n",
       "      <td>$214,970,444</td>\n",
       "    </tr>\n",
       "    <tr>\n",
       "      <th>2</th>\n",
       "      <td>3</td>\n",
       "      <td>New York Mets  NYM</td>\n",
       "      <td>27.0</td>\n",
       "      <td>$149,284,571</td>\n",
       "      <td>$34,456,570</td>\n",
       "      <td>$7,554,446</td>\n",
       "      <td>$11,435,500</td>\n",
       "      <td>NaN</td>\n",
       "      <td>$201,194,662</td>\n",
       "    </tr>\n",
       "    <tr>\n",
       "      <th>3</th>\n",
       "      <td>4</td>\n",
       "      <td>Boston Red Sox  BOS</td>\n",
       "      <td>28.0</td>\n",
       "      <td>$139,111,275</td>\n",
       "      <td>$3,403,229</td>\n",
       "      <td>$37,728,451</td>\n",
       "      <td>$9,657,000</td>\n",
       "      <td>NaN</td>\n",
       "      <td>$187,362,387</td>\n",
       "    </tr>\n",
       "    <tr>\n",
       "      <th>4</th>\n",
       "      <td>5</td>\n",
       "      <td>San Diego Padres  SD</td>\n",
       "      <td>28.0</td>\n",
       "      <td>$127,411,564</td>\n",
       "      <td>$50,645,500</td>\n",
       "      <td>$1,046,516</td>\n",
       "      <td>$6,355,800</td>\n",
       "      <td>NaN</td>\n",
       "      <td>$184,440,529</td>\n",
       "    </tr>\n",
       "  </tbody>\n",
       "</table>\n",
       "</div>"
      ],
      "text/plain": [
       "  Rank                      Team  Roster   Active Cash Disabled List  \\\n",
       "0    1  Los Angeles Dodgers  LAD    28.0  $183,997,657   $13,482,148   \n",
       "1    2     New York Yankees  NYY    28.0  $166,248,586   $32,986,698   \n",
       "2    3        New York Mets  NYM    27.0  $149,284,571   $34,456,570   \n",
       "3    4       Boston Red Sox  BOS    28.0  $139,111,275    $3,403,229   \n",
       "4    5      San Diego Padres  SD    28.0  $127,411,564   $50,645,500   \n",
       "\n",
       "      Retained       Buried  Suspended 2021 Total Cash  \n",
       "0   $2,150,521  $24,640,500        NaN    $223,959,414  \n",
       "1   $9,779,712  $14,752,375        NaN    $214,970,444  \n",
       "2   $7,554,446  $11,435,500        NaN    $201,194,662  \n",
       "3  $37,728,451   $9,657,000        NaN    $187,362,387  \n",
       "4   $1,046,516   $6,355,800        NaN    $184,440,529  "
      ]
     },
     "execution_count": 3,
     "metadata": {},
     "output_type": "execute_result"
    }
   ],
   "source": [
    "# Returns a list of the DataFrames using read_html\n",
    "url_2021 = \"https://www.spotrac.com/mlb/cash/\"\n",
    "list_of_df_2021 = pd.read_html(url)\n",
    "df14_2021 = list_of_df[0] \n",
    "df14_2021.head()"
   ]
  },
  {
   "cell_type": "code",
   "execution_count": 5,
   "id": "4e0d90ec",
   "metadata": {},
   "outputs": [
    {
     "ename": "OSError",
     "evalue": "[Errno 22] Invalid argument: 'https://www.spotrac.com/mlb/cash/'",
     "output_type": "error",
     "traceback": [
      "\u001b[1;31m---------------------------------------------------------------------------\u001b[0m",
      "\u001b[1;31mOSError\u001b[0m                                   Traceback (most recent call last)",
      "\u001b[1;32m<ipython-input-5-5b6b1bc55f1f>\u001b[0m in \u001b[0;36m<module>\u001b[1;34m\u001b[0m\n\u001b[1;32m----> 1\u001b[1;33m \u001b[0mfd_2021\u001b[0m \u001b[1;33m=\u001b[0m \u001b[0mopen\u001b[0m\u001b[1;33m(\u001b[0m\u001b[1;34m\"https://www.spotrac.com/mlb/cash/\"\u001b[0m\u001b[1;33m,\u001b[0m \u001b[1;34m\"r\"\u001b[0m\u001b[1;33m,\u001b[0m \u001b[0mencoding\u001b[0m\u001b[1;33m=\u001b[0m\u001b[1;34m'utf8'\u001b[0m\u001b[1;33m)\u001b[0m\u001b[1;33m\u001b[0m\u001b[1;33m\u001b[0m\u001b[0m\n\u001b[0m\u001b[0;32m      2\u001b[0m \u001b[0msoup_2021\u001b[0m \u001b[1;33m=\u001b[0m \u001b[0mBeautifulSoup\u001b[0m\u001b[1;33m(\u001b[0m\u001b[0mfd_2021\u001b[0m\u001b[1;33m)\u001b[0m\u001b[1;33m\u001b[0m\u001b[1;33m\u001b[0m\u001b[0m\n\u001b[0;32m      3\u001b[0m \u001b[0mfd_2021\u001b[0m\u001b[1;33m.\u001b[0m\u001b[0mclose\u001b[0m\u001b[1;33m(\u001b[0m\u001b[1;33m)\u001b[0m\u001b[1;33m\u001b[0m\u001b[1;33m\u001b[0m\u001b[0m\n",
      "\u001b[1;31mOSError\u001b[0m: [Errno 22] Invalid argument: 'https://www.spotrac.com/mlb/cash/'"
     ]
    }
   ],
   "source": [
    "fd_2021 = open(\"https://www.spotrac.com/mlb/cash/\", \"r\", encoding='utf8')\n",
    "soup_2021 = BeautifulSoup(fd_2021)\n",
    "fd_2021.close()"
   ]
  },
  {
   "cell_type": "code",
   "execution_count": 4,
   "id": "3ce7f92f",
   "metadata": {},
   "outputs": [
    {
     "data": {
      "text/html": [
       "<div>\n",
       "<style scoped>\n",
       "    .dataframe tbody tr th:only-of-type {\n",
       "        vertical-align: middle;\n",
       "    }\n",
       "\n",
       "    .dataframe tbody tr th {\n",
       "        vertical-align: top;\n",
       "    }\n",
       "\n",
       "    .dataframe thead th {\n",
       "        text-align: right;\n",
       "    }\n",
       "</style>\n",
       "<table border=\"1\" class=\"dataframe\">\n",
       "  <thead>\n",
       "    <tr style=\"text-align: right;\">\n",
       "      <th></th>\n",
       "      <th>Rank</th>\n",
       "      <th>Team</th>\n",
       "      <th>Roster</th>\n",
       "      <th>Active Cash</th>\n",
       "      <th>Disabled List</th>\n",
       "      <th>Retained</th>\n",
       "      <th>Buried</th>\n",
       "      <th>Suspended</th>\n",
       "      <th>2021 Total Cash</th>\n",
       "    </tr>\n",
       "  </thead>\n",
       "  <tbody>\n",
       "    <tr>\n",
       "      <th>0</th>\n",
       "      <td>1</td>\n",
       "      <td>Los Angeles Dodgers  LAD</td>\n",
       "      <td>28.0</td>\n",
       "      <td>$183,997,657</td>\n",
       "      <td>$13,482,148</td>\n",
       "      <td>$2,150,521</td>\n",
       "      <td>$24,640,500</td>\n",
       "      <td>NaN</td>\n",
       "      <td>$223,959,414</td>\n",
       "    </tr>\n",
       "    <tr>\n",
       "      <th>1</th>\n",
       "      <td>2</td>\n",
       "      <td>New York Yankees  NYY</td>\n",
       "      <td>28.0</td>\n",
       "      <td>$166,248,586</td>\n",
       "      <td>$32,986,698</td>\n",
       "      <td>$9,779,712</td>\n",
       "      <td>$14,752,375</td>\n",
       "      <td>NaN</td>\n",
       "      <td>$214,970,444</td>\n",
       "    </tr>\n",
       "    <tr>\n",
       "      <th>2</th>\n",
       "      <td>3</td>\n",
       "      <td>New York Mets  NYM</td>\n",
       "      <td>27.0</td>\n",
       "      <td>$149,284,571</td>\n",
       "      <td>$34,456,570</td>\n",
       "      <td>$7,554,446</td>\n",
       "      <td>$11,435,500</td>\n",
       "      <td>NaN</td>\n",
       "      <td>$201,194,662</td>\n",
       "    </tr>\n",
       "    <tr>\n",
       "      <th>3</th>\n",
       "      <td>4</td>\n",
       "      <td>Boston Red Sox  BOS</td>\n",
       "      <td>28.0</td>\n",
       "      <td>$139,111,275</td>\n",
       "      <td>$3,403,229</td>\n",
       "      <td>$37,728,451</td>\n",
       "      <td>$9,657,000</td>\n",
       "      <td>NaN</td>\n",
       "      <td>$187,362,387</td>\n",
       "    </tr>\n",
       "    <tr>\n",
       "      <th>4</th>\n",
       "      <td>5</td>\n",
       "      <td>San Diego Padres  SD</td>\n",
       "      <td>28.0</td>\n",
       "      <td>$127,411,564</td>\n",
       "      <td>$50,645,500</td>\n",
       "      <td>$1,046,516</td>\n",
       "      <td>$6,355,800</td>\n",
       "      <td>NaN</td>\n",
       "      <td>$184,440,529</td>\n",
       "    </tr>\n",
       "  </tbody>\n",
       "</table>\n",
       "</div>"
      ],
      "text/plain": [
       "  Rank                      Team  Roster   Active Cash Disabled List  \\\n",
       "0    1  Los Angeles Dodgers  LAD    28.0  $183,997,657   $13,482,148   \n",
       "1    2     New York Yankees  NYY    28.0  $166,248,586   $32,986,698   \n",
       "2    3        New York Mets  NYM    27.0  $149,284,571   $34,456,570   \n",
       "3    4       Boston Red Sox  BOS    28.0  $139,111,275    $3,403,229   \n",
       "4    5      San Diego Padres  SD    28.0  $127,411,564   $50,645,500   \n",
       "\n",
       "      Retained       Buried  Suspended 2021 Total Cash  \n",
       "0   $2,150,521  $24,640,500        NaN    $223,959,414  \n",
       "1   $9,779,712  $14,752,375        NaN    $214,970,444  \n",
       "2   $7,554,446  $11,435,500        NaN    $201,194,662  \n",
       "3  $37,728,451   $9,657,000        NaN    $187,362,387  \n",
       "4   $1,046,516   $6,355,800        NaN    $184,440,529  "
      ]
     },
     "execution_count": 4,
     "metadata": {},
     "output_type": "execute_result"
    }
   ],
   "source": [
    "url_2020 = \"https://www.spotrac.com/mlb/cash/2020/\"\n",
    "list_of_df_2020 = pd.read_html(url)\n",
    "df14_2020 = list_of_df[0] \n",
    "df14_2020.head()"
   ]
  },
  {
   "cell_type": "code",
   "execution_count": null,
   "id": "59c1fc0e",
   "metadata": {},
   "outputs": [],
   "source": [
    "\n",
    "url_2019 = \"https://www.spotrac.com/mlb/cash/\"\n",
    "list_of_df = pd.read_html(url)\n",
    "df14 = list_of_df[0] \n",
    "df14.head()\n",
    "\n",
    "url_2018 = \"https://www.spotrac.com/mlb/cash/\"\n",
    "list_of_df = pd.read_html(url)\n",
    "df14 = list_of_df[0] \n",
    "df14.head()\n",
    "\n",
    "url_2017 = \"https://www.spotrac.com/mlb/cash/\"\n",
    "list_of_df = pd.read_html(url)\n",
    "df14 = list_of_df[0] \n",
    "df14.head()\n",
    "\n",
    "url_2016 = \"https://www.spotrac.com/mlb/cash/\"\n",
    "list_of_df = pd.read_html(url)\n",
    "df14 = list_of_df[0] \n",
    "df14.head()\n",
    "\n",
    "url_2015 = \"https://www.spotrac.com/mlb/cash/\"\n",
    "list_of_df = pd.read_html(url)\n",
    "df14 = list_of_df[0] \n",
    "df14.head()\n",
    "\n",
    "url_2014 = \"https://www.spotrac.com/mlb/cash/\"\n",
    "list_of_df = pd.read_html(url)\n",
    "df14 = list_of_df[0] \n",
    "df14.head()\n",
    "\n",
    "url_2013 = \"https://www.spotrac.com/mlb/cash/\"\n",
    "list_of_df = pd.read_html(url)\n",
    "df14 = list_of_df[0] \n",
    "df14.head()\n",
    "\n",
    "url_2012 = \"https://www.spotrac.com/mlb/cash/\"\n",
    "list_of_df = pd.read_html(url)\n",
    "df14 = list_of_df[0] \n",
    "df14.head()"
   ]
  },
  {
   "cell_type": "code",
   "execution_count": null,
   "id": "2c026496",
   "metadata": {},
   "outputs": [],
   "source": [
    "# Create fd variable that stores wikipedia HTML file by opening it and reading it\n",
    "# Included encoding='utf8' to tell open() what codec to use when reading the file\n",
    "# Created soup variable that stores BeautifulSoup function passing fd dataframe to return a string stripped of any HTML tags and metadata\n",
    "# use .close() to close the open file\n",
    "fd = open(\"List of countries by GDP (nominal) - Wikipedia.htm\", \"r\", encoding='utf8')\n",
    "soup = BeautifulSoup(fd)\n",
    "fd.close()"
   ]
  },
  {
   "cell_type": "code",
   "execution_count": null,
   "id": "9b1a47d1",
   "metadata": {},
   "outputs": [],
   "source": [
    "## Replace Headers"
   ]
  },
  {
   "cell_type": "code",
   "execution_count": null,
   "id": "009d5ddd",
   "metadata": {},
   "outputs": [],
   "source": []
  },
  {
   "cell_type": "code",
   "execution_count": null,
   "id": "13e00d8f",
   "metadata": {},
   "outputs": [],
   "source": [
    "## Format data into a more readable format"
   ]
  },
  {
   "cell_type": "code",
   "execution_count": null,
   "id": "3cf401d7",
   "metadata": {},
   "outputs": [],
   "source": []
  },
  {
   "cell_type": "code",
   "execution_count": null,
   "id": "a1c4f768",
   "metadata": {},
   "outputs": [],
   "source": [
    "## Identify outliers and bad data"
   ]
  },
  {
   "cell_type": "code",
   "execution_count": null,
   "id": "c61539ae",
   "metadata": {},
   "outputs": [],
   "source": []
  },
  {
   "cell_type": "code",
   "execution_count": null,
   "id": "a4341120",
   "metadata": {},
   "outputs": [],
   "source": [
    "## Find duplicates"
   ]
  },
  {
   "cell_type": "code",
   "execution_count": null,
   "id": "eb3fc71f",
   "metadata": {},
   "outputs": [],
   "source": []
  },
  {
   "cell_type": "code",
   "execution_count": null,
   "id": "c021b1e7",
   "metadata": {},
   "outputs": [],
   "source": [
    "## Fix casing or inconsistent values"
   ]
  },
  {
   "cell_type": "code",
   "execution_count": null,
   "id": "ab140d17",
   "metadata": {},
   "outputs": [],
   "source": []
  },
  {
   "cell_type": "code",
   "execution_count": null,
   "id": "5bbfe241",
   "metadata": {},
   "outputs": [],
   "source": [
    "## Conduct fuzzy matching"
   ]
  },
  {
   "cell_type": "code",
   "execution_count": null,
   "id": "732f683e",
   "metadata": {},
   "outputs": [],
   "source": []
  }
 ],
 "metadata": {
  "kernelspec": {
   "display_name": "Python 3",
   "language": "python",
   "name": "python3"
  },
  "language_info": {
   "codemirror_mode": {
    "name": "ipython",
    "version": 3
   },
   "file_extension": ".py",
   "mimetype": "text/x-python",
   "name": "python",
   "nbconvert_exporter": "python",
   "pygments_lexer": "ipython3",
   "version": "3.8.8"
  }
 },
 "nbformat": 4,
 "nbformat_minor": 5
}
