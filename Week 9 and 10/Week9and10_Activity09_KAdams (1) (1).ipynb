{
 "cells": [
  {
   "cell_type": "markdown",
   "metadata": {},
   "source": [
    "# Activity 9: Top 100 ebooks' name extraction from Gutenberg.org\n",
    "\n",
    "## What is Project Gutenberg? - \n",
    "Project Gutenberg is a volunteer effort to digitize and archive cultural works, to \"encourage the creation and distribution of eBooks\". It was founded in 1971 by American writer Michael S. Hart and is the **oldest digital library.** This longest-established ebook project releases books that entered the public domain, and can be freely read or downloaded in various electronic formats.\n",
    "\n",
    "## What is this activity all about?\n",
    "* **This activity aims to scrape the url of the Project Gutenberg's Top 100 ebooks (yesterday's ranking) for identifying the ebook links. **\n",
    "* **It uses BeautifulSoup4 for parsing the HTML and regular expression code for identifying the Top 100 ebook file numbers.**\n",
    "* **You can use those book ID numbers to download the book into your local drive if you want**"
   ]
  },
  {
   "cell_type": "markdown",
   "metadata": {},
   "source": [
    "### Import necessary libraries including regex, and beautifulsoup"
   ]
  },
  {
   "cell_type": "code",
   "execution_count": 5,
   "metadata": {},
   "outputs": [],
   "source": [
    "import urllib.request, urllib.parse, urllib.error #urllib 3 module that can place HTTP requests and receive data from the cloud\n",
    "import requests # Use Requests library to avoid dealing with HTTP methods on a lower level\n",
    "from bs4 import BeautifulSoup # HTML parser package and builds a tree of all tags and markups within the page\n",
    "import ssl # provides access to Transport Layer Security encryption and peer authentication facilities\n",
    "import re #provides full support for Perl-like regular expressions"
   ]
  },
  {
   "cell_type": "markdown",
   "metadata": {},
   "source": [
    "### Ignore SSL errors (this code will be given)"
   ]
  },
  {
   "cell_type": "code",
   "execution_count": 6,
   "metadata": {},
   "outputs": [],
   "source": [
    "# Use SSL library to ignore any SSL certificate errors\n",
    "ctx = ssl.create_default_context()\n",
    "ctx.check_hostname = False\n",
    "ctx.verify_mode = ssl.CERT_NONE"
   ]
  },
  {
   "cell_type": "markdown",
   "metadata": {},
   "source": [
    "### Read the HTML from the URL"
   ]
  },
  {
   "cell_type": "code",
   "execution_count": 11,
   "metadata": {},
   "outputs": [],
   "source": [
    "response = requests.get('https://www.gutenberg.org/browse/scores/top' ) # pass Project Gutenberg's HTML address to requests "
   ]
  },
  {
   "cell_type": "markdown",
   "metadata": {},
   "source": [
    "### Write a small function to check the status of web request"
   ]
  },
  {
   "cell_type": "code",
   "execution_count": 13,
   "metadata": {},
   "outputs": [],
   "source": [
    "def status_check(r): # create status_check function to check the status of the web request to make sure it was successful\n",
    "    if r.status_code==200: # Looks for the HTTP status code 200 which means \"OK\"\n",
    "        print(\"Success!\") # 200 means success\n",
    "        return 1\n",
    "    else:# If it does not find the code 200, then it did not go \"OK\"\n",
    "        print(\"Failed!\") # Anything other than 200 will mean a failure\n",
    "        return -1"
   ]
  },
  {
   "cell_type": "code",
   "execution_count": 15,
   "metadata": {},
   "outputs": [
    {
     "name": "stdout",
     "output_type": "stream",
     "text": [
      "Success!\n"
     ]
    },
    {
     "data": {
      "text/plain": [
       "1"
      ]
     },
     "execution_count": 15,
     "metadata": {},
     "output_type": "execute_result"
    }
   ],
   "source": [
    "status_check(response) # pass the response variable containing the HTML address to status_check function"
   ]
  },
  {
   "cell_type": "markdown",
   "metadata": {},
   "source": [
    "### Decode the response and pass on to `BeautifulSoup` for HTML parsing"
   ]
  },
  {
   "cell_type": "code",
   "execution_count": 16,
   "metadata": {},
   "outputs": [],
   "source": [
    "contents = response.content.decode(response.encoding) # create contents variable that decodes response variable"
   ]
  },
  {
   "cell_type": "code",
   "execution_count": 17,
   "metadata": {},
   "outputs": [],
   "source": [
    "soup = BeautifulSoup(contents, 'html.parser') # pass contents to Beautiful soup and create soup variable"
   ]
  },
  {
   "cell_type": "markdown",
   "metadata": {},
   "source": [
    "### Find all the _href_ tags and store them in the list of links. Check how the list looks like - print first 30 elements"
   ]
  },
  {
   "cell_type": "code",
   "execution_count": 18,
   "metadata": {},
   "outputs": [],
   "source": [
    "lst_links=[] # created lst_links that creates an empty list to hold all the http links in the HTML page"
   ]
  },
  {
   "cell_type": "code",
   "execution_count": 19,
   "metadata": {},
   "outputs": [],
   "source": [
    "# Find all the href tags and store them in the list of links\n",
    "for link in soup.find_all('a'): # created for loop to find all links in HTML page\n",
    "    #print(link.get('href'))\n",
    "    lst_links.append(link.get('href')) # append all href tags to the lst_links list variable"
   ]
  },
  {
   "cell_type": "code",
   "execution_count": 21,
   "metadata": {},
   "outputs": [
    {
     "data": {
      "text/plain": [
       "['/',\n",
       " '/about/',\n",
       " '/about/',\n",
       " '/policy/collection_development.html',\n",
       " '/about/contact_information.html',\n",
       " '/about/background/',\n",
       " '/policy/permission.html',\n",
       " '/policy/privacy_policy.html',\n",
       " '/policy/terms_of_use.html',\n",
       " '/ebooks/',\n",
       " '/ebooks/',\n",
       " '/ebooks/bookshelf/',\n",
       " '/browse/scores/top',\n",
       " '/ebooks/offline_catalogs.html',\n",
       " '/help/',\n",
       " '/help/',\n",
       " '/help/copyright.html',\n",
       " '/help/errata.html',\n",
       " '/help/file_formats.html',\n",
       " '/help/faq.html',\n",
       " '/policy/',\n",
       " '/help/public_domain_ebook_submission.html',\n",
       " '/help/submitting_your_own_work.html',\n",
       " '/help/mobile.html',\n",
       " '/attic/',\n",
       " '/donate/',\n",
       " '/donate/',\n",
       " '#books-last1',\n",
       " '#authors-last1',\n",
       " '#books-last7']"
      ]
     },
     "execution_count": 21,
     "metadata": {},
     "output_type": "execute_result"
    }
   ],
   "source": [
    "lst_links[:30] # print out the first 30"
   ]
  },
  {
   "cell_type": "markdown",
   "metadata": {},
   "source": [
    "### Use regular expression to find the numeric digits in these links. <br>These are the file number for the Top 100 books."
   ]
  },
  {
   "cell_type": "markdown",
   "metadata": {},
   "source": [
    "#### Initialize empty list to hold the file numbers"
   ]
  },
  {
   "cell_type": "code",
   "execution_count": 22,
   "metadata": {},
   "outputs": [],
   "source": [
    "booknum=[] # created bookbum that creates an empty list to hold all the file numbers"
   ]
  },
  {
   "cell_type": "markdown",
   "metadata": {},
   "source": [
    "* Number 19 to 118 in the original list of links have the Top 100 ebooks' number. \n",
    "* Loop over appropriate range and use regex to find the numeric digits in the link (href) string.\n",
    "* Hint: Use `findall()` method"
   ]
  },
  {
   "cell_type": "code",
   "execution_count": 25,
   "metadata": {},
   "outputs": [],
   "source": [
    "for i in range(19,119): # created for loop to iterate over number 19 to 118 in the original list of links\n",
    "    link=lst_links[i]\n",
    "    link=link.strip()\n",
    "    # Regular expression to find the numeric digits in the link (href) string\n",
    "    n=re.findall('[0-9]+',link) # find all the numeric digits in the link (href) string\n",
    "    if len(n)==1: # if statement that if the length of n is equal to 1\n",
    "        # Then append the filenumber casted as integer to booknum list\n",
    "        booknum.append(int(n[0]))"
   ]
  },
  {
   "cell_type": "markdown",
   "metadata": {},
   "source": [
    "#### Print the file numbers"
   ]
  },
  {
   "cell_type": "code",
   "execution_count": 26,
   "metadata": {},
   "outputs": [
    {
     "name": "stdout",
     "output_type": "stream",
     "text": [
      "\n",
      "The file numbers for the top 100 ebooks on Gutenberg are shown below\n",
      "----------------------------------------------------------------------\n",
      "[1, 1, 7, 7, 30, 30, 84, 1342, 25344, 41, 345, 11, 1952, 2542, 174, 5200, 2701, 43, 1080, 1661, 98, 219, 1260, 64317, 844, 408, 46, 160, 1232, 1727, 205, 2591, 76, 4980, 16328, 1250, 23, 6130, 2814, 3825, 55, 2554, 74, 3207, 2852, 66609, 7370, 4300, 215, 4517, 768, 66613, 514, 996, 203, 2148, 16, 66612, 902, 66608, 1400, 45, 2500, 66607, 42884, 1184, 10007, 2600, 1497, 120, 3600, 19942, 5740, 779, 32449, 15399, 36, 58585, 829, 209, 1429, 1251, 22381, 66601, 512, 852, 20203, 11030, 135, 158, 35, 49018, 1, 1, 7, 7, 30, 30, 84, 1342, 25344, 41, 345, 11, 1952, 2542, 174, 5200, 2701, 43, 1080, 1661, 98, 219, 1260, 64317, 844, 408, 46, 160, 1232, 1727, 205, 2591, 76, 4980, 16328, 1250, 23, 6130, 2814, 3825, 55, 2554, 74, 3207, 2852, 66609, 7370, 4300, 215, 4517, 768, 66613, 514, 996, 203, 2148, 16, 66612, 902, 66608, 1400, 45, 2500, 66607, 42884, 1184, 10007, 2600, 1497, 120, 3600, 19942, 5740, 779, 32449, 15399, 36, 58585, 829, 209, 1429, 1251, 22381, 66601, 512, 852, 20203, 11030, 135, 158, 35, 49018]\n"
     ]
    }
   ],
   "source": [
    "print (\"\\nThe file numbers for the top 100 ebooks on Gutenberg are shown below\\n\"+\"-\"*70) # print statement\n",
    "print(booknum) # print the file number of the top 100 ebooks (booknum list)"
   ]
  },
  {
   "cell_type": "markdown",
   "metadata": {},
   "source": [
    "### How does the `soup` object's text look like? Use `.text()` method and print only first 2000 characters (i.e. do not print the whole thing, it is long).\n",
    "\n",
    "You will notice lot of empty spaces/blanks here and there. Ignore them. They are part of HTML page markup and its whimsical nature!"
   ]
  },
  {
   "cell_type": "code",
   "execution_count": 28,
   "metadata": {
    "scrolled": false
   },
   "outputs": [
    {
     "name": "stdout",
     "output_type": "stream",
     "text": [
      "\n",
      "\n",
      "\n",
      "\n",
      "Top 100 | Project Gutenberg\n",
      "\n",
      "\n",
      "\n",
      "\n",
      "\n",
      "\n",
      "\n",
      "\n",
      "\n",
      "\n",
      "\n",
      "\n",
      "\n",
      "\n",
      "\n",
      "\n",
      "\n",
      "\n",
      "\n",
      "\n",
      "\n",
      "\n",
      "\n",
      "\n",
      "\n",
      "\n",
      "\n",
      "Menu▾\n",
      "\n",
      "\n",
      "\n",
      "About\n",
      "          ▾\n",
      "\n",
      "▾\n",
      "\n",
      "\n",
      "About Project Gutenberg\n",
      "Collection Development\n",
      "Contact Us\n",
      "History & Philosophy\n",
      "Permissions & License\n",
      "Privacy Policy\n",
      "Terms of Use\n",
      "\n",
      "\n",
      "\n",
      "Search and Browse\n",
      "      \t  ▾\n",
      "\n",
      "▾\n",
      "\n",
      "\n",
      "Book Search\n",
      "Bookshelves\n",
      "Frequently Downloaded\n",
      "Offline Catalogs\n",
      "\n",
      "\n",
      "\n",
      "Help\n",
      "          ▾\n",
      "\n",
      "▾\n",
      "\n",
      "\n",
      "All help topics →\n",
      "Copyright Procedures\n",
      "Errata, Fixes and Bug Reports\n",
      "File Formats\n",
      "Frequently Asked Questions\n",
      "Policies →\n",
      "Public Domain eBook Submission\n",
      "Submitting Your Own Work\n",
      "Tablets, Phones and eReaders\n",
      "The Attic →\n",
      "\n",
      "\n",
      "Donate\n",
      "\n",
      "\n",
      "\n",
      "\n",
      "\n",
      "\n",
      "\n",
      "\n",
      "\n",
      "\n",
      "Donation\n",
      "\n",
      "\n",
      "\n",
      "\n",
      "\n",
      "\n",
      "\n",
      "Frequently Viewed or Downloaded\n",
      "These listings are based on the number of times each eBook gets downloaded.\n",
      "      Multiple downloads from the same Internet address on the same day count as one download, and addresses that download more than 100 eBooks in a day are considered robots and are not counted.\n",
      "\n",
      "Downloaded Books\n",
      "2021-10-26178310\n",
      "last 7 days1168075\n",
      "last 30 days4889924\n",
      "\n",
      "\n",
      "\n",
      "Top 100 EBooks yesterday\n",
      "Top 100 Authors yesterday\n",
      "Top 100 EBooks last 7 days\n",
      "Top 100 Authors last 7 days\n",
      "Top 100 EBooks last 30 days\n",
      "Top 100 Authors last 30 days\n",
      "\n",
      "\n",
      "Top 100 EBooks yesterday\n",
      "\n",
      "Frankenstein; Or, The Modern Prometheus by Mary Wollstonecraft Shelley (3790)\n",
      "Pride and Prejudice by Jane Austen (2233)\n",
      "The Scarlet Letter by Nathaniel Hawthorne (1544)\n",
      "The Legend of Sleepy Hollow by Washington Irving (1126)\n",
      "Dracula by Bram Stoker (1099)\n",
      "Alice's Adventures in Wonderland by Lewis Carroll (1032)\n",
      "The Yellow Wallpaper by Charlotte Perkins Gilman (947)\n",
      "A Doll's House : a play by Henrik Ibsen (941)\n",
      "The Picture of Dorian Gray by Oscar Wilde (884)\n",
      "Metamorphosis by Franz Kafka (879)\n",
      "Moby Dick; Or, The Whale by Herman Melville (842)\n",
      "The Strange Case of Dr. Jekyll and Mr. Hyde by Robert Louis Stevenson (793)\n",
      "A Modest Proposal by Jonathan Swift (767)\n",
      "The Adventures of Sherlock Holmes by Arthur Conan Doyle (763)\n",
      "A Tale of Two Cities by Charles Dickens (750)\n",
      "Heart of Darkness by Joseph Conrad (708)\n",
      "Jane Eyre: An Auto\n"
     ]
    }
   ],
   "source": [
    "print(soup.text[:2000]) # print out the soup object's text of the first 2000 characters"
   ]
  },
  {
   "cell_type": "markdown",
   "metadata": {},
   "source": [
    "### Search in the extracted text (using regular expression) from the `soup` object to find the names of top 100 Ebooks (Yesterday's rank)"
   ]
  },
  {
   "cell_type": "code",
   "execution_count": 29,
   "metadata": {},
   "outputs": [],
   "source": [
    "lst_titles_temp=[] # created lst_titles_temp variable which is an empty list if ebook names"
   ]
  },
  {
   "cell_type": "markdown",
   "metadata": {},
   "source": [
    "#### Create a starting index. It should point at the text _\"Top 100 Ebooks yesterday\"_. Hint: Use `splitlines()` method of the `soup.text`. It splits the lines of the text of the `soup` object."
   ]
  },
  {
   "cell_type": "code",
   "execution_count": 32,
   "metadata": {},
   "outputs": [],
   "source": [
    "# created start_idx variable that is a starting index pointing at the text\n",
    "start_idx=soup.text.splitlines().index('Top 100 EBooks yesterday') # Use splitlines to split soup's lines of the text "
   ]
  },
  {
   "cell_type": "markdown",
   "metadata": {},
   "source": [
    "#### Loop 1-100 to add the strings of next 100 lines to this temporary list. Hint: `splitlines()` method"
   ]
  },
  {
   "cell_type": "code",
   "execution_count": 34,
   "metadata": {},
   "outputs": [],
   "source": [
    "for i in range(100): # for loop to loop 1-100 books\n",
    "    lst_titles_temp.append(soup.text.splitlines()[start_idx+2+i]) # append the strings of the next 100 lines to list_titles_temp"
   ]
  },
  {
   "cell_type": "markdown",
   "metadata": {},
   "source": [
    "#### Use regular expression to extract only text from the name strings and append to an empty list\n",
    "* Hint: Use `match` and `span` to find indices and use them"
   ]
  },
  {
   "cell_type": "code",
   "execution_count": 35,
   "metadata": {},
   "outputs": [],
   "source": [
    "lst_titles=[] # blank list lst_titles\n",
    "for i in range(100): # for loop to iterate on extraction of only text from the name strings\n",
    "    id1,id2=re.match('^[a-zA-Z ]*',lst_titles_temp[i]).span() # find indices and use them\n",
    "    lst_titles.append(lst_titles_temp[i][id1:id2]) # append to lst_title list"
   ]
  },
  {
   "cell_type": "markdown",
   "metadata": {},
   "source": [
    "#### Print the list of titles"
   ]
  },
  {
   "cell_type": "code",
   "execution_count": 36,
   "metadata": {},
   "outputs": [
    {
     "name": "stdout",
     "output_type": "stream",
     "text": [
      "Top \n",
      "Top \n",
      "Top \n",
      "Top \n",
      "\n",
      "\n",
      "Top \n",
      "\n",
      "Frankenstein\n",
      "Pride and Prejudice by Jane Austen \n",
      "The Scarlet Letter by Nathaniel Hawthorne \n",
      "The Legend of Sleepy Hollow by Washington Irving \n",
      "Dracula by Bram Stoker \n",
      "Alice\n",
      "The Yellow Wallpaper by Charlotte Perkins Gilman \n",
      "A Doll\n",
      "The Picture of Dorian Gray by Oscar Wilde \n",
      "Metamorphosis by Franz Kafka \n",
      "Moby Dick\n",
      "The Strange Case of Dr\n",
      "A Modest Proposal by Jonathan Swift \n",
      "The Adventures of Sherlock Holmes by Arthur Conan Doyle \n",
      "A Tale of Two Cities by Charles Dickens \n",
      "Heart of Darkness by Joseph Conrad \n",
      "Jane Eyre\n",
      "The Great Gatsby by F\n",
      "The Importance of Being Earnest\n",
      "The Souls of Black Folk by W\n",
      "A Christmas Carol in Prose\n",
      "The Awakening\n",
      "The Prince by Niccol\n",
      "The Odyssey by Homer \n",
      "Walden\n",
      "Grimms\n",
      "Adventures of Huckleberry Finn by Mark Twain \n",
      "Old Granny Fox by Thornton W\n",
      "Beowulf\n",
      "Anthem by Ayn Rand \n",
      "Narrative of the Life of Frederick Douglass\n",
      "The Iliad by Homer \n",
      "Dubliners by James Joyce \n",
      "Pygmalion by Bernard Shaw \n",
      "The Wonderful Wizard of Oz by L\n",
      "Crime and Punishment by Fyodor Dostoyevsky \n",
      "The Adventures of Tom Sawyer\n",
      "Leviathan by Thomas Hobbes \n",
      "The Hound of the Baskervilles by Arthur Conan Doyle \n",
      "Augustus by Evelyn S\n",
      "Second Treatise of Government by John Locke \n",
      "Ulysses by James Joyce \n",
      "The Call of the Wild by Jack London \n",
      "Ethan Frome by Edith Wharton \n",
      "Wuthering Heights by Emily Bront\n",
      "The Last Plunge by S\n",
      "Little Women by Louisa May Alcott \n",
      "Don Quixote by Miguel de Cervantes Saavedra \n",
      "Uncle Tom\n",
      "The Works of Edgar Allan Poe \n",
      "Peter Pan by J\n",
      "Wanted\n",
      "The Happy Prince\n",
      "Export Commodity by Irving E\n",
      "Great Expectations by Charles Dickens \n",
      "Anne of Green Gables by L\n",
      "Siddhartha by Hermann Hesse \n",
      "Story of the automobile by H\n",
      "The Philippine Islands\n",
      "The Count of Monte Cristo\n",
      "Carmilla by Joseph Sheridan Le Fanu \n",
      "War and Peace by graf Leo Tolstoy \n",
      "The Republic by Plato \n",
      "Treasure Island by Robert Louis Stevenson \n",
      "Essays of Michel de Montaigne \n",
      "Candide by Voltaire \n",
      "Tractatus Logico\n",
      "The Tragical History of Doctor Faustus by Christopher Marlowe \n",
      "Japanese Girls and Women by Alice Mabel Bacon \n",
      "The Interesting Narrative of the Life of Olaudah Equiano\n",
      "The War of the Worlds by H\n",
      "The Prophet by Kahlil Gibran \n",
      "Gulliver\n",
      "The Turn of the Screw by Henry James \n",
      "The Garden Party\n",
      "Le Morte d\n",
      "Myths and Legends of Ancient Greece and Rome by E\n",
      "A Point of Testimony by Carolyn Wells \n",
      "Mosses from an Old Manse\n",
      "Democracy and Education\n",
      "Autobiography of Benjamin Franklin by Benjamin Franklin \n",
      "Incidents in the Life of a Slave Girl\n",
      "Les Mis\n",
      "Emma by Jane Austen \n",
      "The Time Machine by H\n",
      "The Witness of the Stars by E\n",
      "Common Sense by Thomas Paine \n",
      "The Confessions of St\n",
      "The American Diary of a Japanese Girl by Yon\n",
      "Thus Spake Zarathustra\n",
      "The Brothers Karamazov by Fyodor Dostoyevsky \n",
      "Beyond Good and Evil by Friedrich Wilhelm Nietzsche \n"
     ]
    }
   ],
   "source": [
    "for l in lst_titles: # for loop to print the list of titles in the lst_titles list that was populated above\n",
    "    print(l)"
   ]
  },
  {
   "cell_type": "code",
   "execution_count": null,
   "metadata": {},
   "outputs": [],
   "source": []
  }
 ],
 "metadata": {
  "kernelspec": {
   "display_name": "Python 3",
   "language": "python",
   "name": "python3"
  },
  "language_info": {
   "codemirror_mode": {
    "name": "ipython",
    "version": 3
   },
   "file_extension": ".py",
   "mimetype": "text/x-python",
   "name": "python",
   "nbconvert_exporter": "python",
   "pygments_lexer": "ipython3",
   "version": "3.8.8"
  },
  "latex_envs": {
   "LaTeX_envs_menu_present": true,
   "autoclose": false,
   "autocomplete": true,
   "bibliofile": "biblio.bib",
   "cite_by": "apalike",
   "current_citInitial": 1,
   "eqLabelWithNumbers": true,
   "eqNumInitial": 1,
   "hotkeys": {
    "equation": "Ctrl-E",
    "itemize": "Ctrl-I"
   },
   "labels_anchors": false,
   "latex_user_defs": false,
   "report_style_numbering": false,
   "user_envs_cfg": false
  }
 },
 "nbformat": 4,
 "nbformat_minor": 2
}
