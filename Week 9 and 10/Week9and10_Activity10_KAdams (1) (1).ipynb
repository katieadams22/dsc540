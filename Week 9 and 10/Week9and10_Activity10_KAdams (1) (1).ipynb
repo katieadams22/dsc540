{
 "cells": [
  {
   "cell_type": "markdown",
   "metadata": {},
   "source": [
    "# Activity 10: Advanced web scraping and data gathering\n",
    "## Build your own movie database by reading from an API\n",
    "### This notebook does the following\n",
    "* Retrieves and prints basic data about a movie (title entered by user) from the web (OMDB database)\n",
    "* If a poster of the movie could be found, it downloads the file and saves at a user-specified location"
   ]
  },
  {
   "cell_type": "code",
   "execution_count": 27,
   "metadata": {},
   "outputs": [],
   "source": [
    "import urllib.request, urllib.parse, urllib.error #urllib 3 module that can place HTTP requests and receive data from the cloud\n",
    "import json # Python program to convert text file to JSON"
   ]
  },
  {
   "cell_type": "markdown",
   "metadata": {},
   "source": [
    "### Load the secret API key (you have to get one from OMDB website and use that, 1000 daily limit) from a JSON file, stored in the same folder into a variable\n",
    "Hint: Use **`json.loads()`**\n",
    "\n",
    "#### Note: The following cell will not be executed in the solution notebook because the author cannot give out his private API key. \n",
    "#### Students/users/instructor will need to obtain a key and store in a JSON file. \n",
    "#### For the code's sake, we are calling this file `APIkeys.json`. But you need to store your own key in this file."
   ]
  },
  {
   "cell_type": "code",
   "execution_count": 116,
   "metadata": {},
   "outputs": [
    {
     "data": {
      "text/plain": [
       "<_io.TextIOWrapper name='APIkeys_2.json' mode='w' encoding='cp1252'>"
      ]
     },
     "execution_count": 116,
     "metadata": {},
     "output_type": "execute_result"
    }
   ],
   "source": [
    "# Convert APIkeys.txt file into a JSON file (no JSON file available in Github repo) with API key included\n",
    "\n",
    "## Create variable that stores APIkeys.txt file\n",
    "filename = 'APIkeys.txt'\n",
    "  \n",
    "## Create dictionary where the API key will be stored\n",
    "dict1 = {\"OMDBapi\":\"a41b8caf\"}\n",
    "  \n",
    "## Modify the dictionary\n",
    "with open(filename) as fh:\n",
    "  \n",
    "    for line in fh:\n",
    "  \n",
    "        # reads each line and trims of extra the spaces \n",
    "        # and gives only the valid words\n",
    "        command, description = line.strip().split(None, 1)\n",
    "  \n",
    "        dict1[command] = description.strip()\n",
    "\n",
    "\n",
    "## Create JSON file from APIkeys.txt file named as APIkeys_2\n",
    "json_file = open(\"APIkeys_2.json\", \"w\")\n",
    "json.dump(dict1, json_file, indent = 4, sort_keys = False)\n",
    "json_file.close()\n",
    "\n",
    "json_file"
   ]
  },
  {
   "cell_type": "code",
   "execution_count": 119,
   "metadata": {},
   "outputs": [
    {
     "data": {
      "text/plain": [
       "'a41b8caf'"
      ]
     },
     "execution_count": 119,
     "metadata": {},
     "output_type": "execute_result"
    }
   ],
   "source": [
    "# Load the secret API key from a JSON file and store in the same folder into a variable\n",
    "with open('APIkeys.json') as f:\n",
    "    keys = json.load(f)\n",
    "    omdbapi = keys['OMDBapi']\n",
    "\n",
    "omdbapi"
   ]
  },
  {
   "cell_type": "markdown",
   "metadata": {},
   "source": [
    "### The final URL to be passed should look like: http://www.omdbapi.com/?t=movie_name&apikey=secretapikey \n",
    "Do the following,\n",
    "* Assign the OMDB portal (http://www.omdbapi.com/?) as a string to a variable `serviceurl` (don't miss the `?`)\n",
    "* Create a variable `apikey` with the last portion of the URL (\"&apikey=secretapikey\"), where `secretapikey` is your own API key (an actual code)\n",
    "* The movie name portion i.e. \"t=movie_name\" will be addressed later"
   ]
  },
  {
   "cell_type": "code",
   "execution_count": 133,
   "metadata": {},
   "outputs": [
    {
     "data": {
      "text/plain": [
       "'&apikey=a41b8caf'"
      ]
     },
     "execution_count": 133,
     "metadata": {},
     "output_type": "execute_result"
    }
   ],
   "source": [
    "serviceurl = 'http://www.omdbapi.com/?' # assign OMDB portal as string to variable serviceurl\n",
    "apikey = '&apikey='+omdbapi # created variable apikey with last portion of URL is the OMBDapi api key\n",
    "\n",
    "apikey"
   ]
  },
  {
   "cell_type": "markdown",
   "metadata": {},
   "source": [
    "### Write a utility function `print_json` to print nicely the movie data from a JSON file (which we will get from the portal)\n",
    "Here are the keys of a JSON file,\n",
    "\n",
    "'Title', 'Year', 'Rated', 'Released', 'Runtime', 'Genre', 'Director', 'Writer', 'Actors', 'Plot', 'Language','Country', 'Awards', 'Ratings', 'Metascore', 'imdbRating', 'imdbVotes', 'imdbID'"
   ]
  },
  {
   "cell_type": "code",
   "execution_count": 134,
   "metadata": {},
   "outputs": [],
   "source": [
    "def print_json(json_data): # created print_json function to nicely print out the data from a JSON file\n",
    "    list_keys=['Title', 'Year', 'Rated', 'Released', 'Runtime', 'Genre', 'Director', 'Writer', \n",
    "               'Actors', 'Plot', 'Language', 'Country', 'Awards', 'Ratings', \n",
    "               'Metascore', 'imdbRating', 'imdbVotes', 'imdbID'] # created list of the keys listed above in the instructions\n",
    "    print(\"-\"*50) # print 50\n",
    "    for k in list_keys: # for loop of list_keys list\n",
    "        if k in list(json_data.keys()):\n",
    "            print(f\"{k}: {json_data[k]}\")\n",
    "    print(\"-\"*50)"
   ]
  },
  {
   "cell_type": "markdown",
   "metadata": {},
   "source": [
    "### Write a utility function to download a poster of the movie based on the information from the jason dataset and save in your local folder\n",
    "\n",
    "* Use `os` module\n",
    "* The poster data is stored in the JSON key 'Poster'\n",
    "* You may want to split the name of the Poster file and extract the file extension only. Let's say the extension is ***'jpg'***.\n",
    "* Then later join this extension to the movie name and create a filename like ***movie.jpg***\n",
    "* Use the Python command `open` to open a file and write the poster data. Close the file after done.\n",
    "* This function may not return anything. It just saves the poster data as an image file."
   ]
  },
  {
   "cell_type": "code",
   "execution_count": 135,
   "metadata": {},
   "outputs": [],
   "source": [
    "# save_poster function to download a poster of the movie based on the info from the json dataset and save to local folder\n",
    "def save_poster(json_data):\n",
    "    import os # import os module\n",
    "    title = json_data['Title']\n",
    "    poster_url = json_data['Poster']\n",
    "    # Splits the poster url by '.' and picks up the last string as file extension\n",
    "    poster_file_extension=poster_url.split('.')[-1]\n",
    "    # Reads the image file from web\n",
    "    poster_data = urllib.request.urlopen(poster_url).read()\n",
    "        \n",
    "    savelocation=os.getcwd()+'\\\\'+'Posters'+'\\\\'\n",
    "    # Creates new directory if the directory does not exist. Otherwise, just use the existing path.\n",
    "    if not os.path.isdir(savelocation):\n",
    "        os.mkdir(savelocation)\n",
    "    \n",
    "    filename=savelocation+str(title)+'.'+poster_file_extension\n",
    "    f=open(filename,'wb')\n",
    "    f.write(poster_data)\n",
    "    f.close()"
   ]
  },
  {
   "cell_type": "markdown",
   "metadata": {},
   "source": [
    "### Write a utility function `search_movie` to search a movie by its name, print the downloaded JSON data (use the `print_json` function for this) and save the movie poster in the local folder (use `save_poster` function for this)\n",
    "\n",
    "* Use `try-except` loop for this i.e. try to connect to the web portal, if successful proceed but if not (i.e. exception raised) then just print an error message\n",
    "* Here use the previously created variables `serviceurl` and `apikey`\n",
    "* You have to pass on a dictionary with a key `t` and the movie name as the corresponding value to `urllib.parse.urlencode()` function and then add the `serviceurl` and `apikey` to the output of the function to construct the full URL\n",
    "* This URL will be used for accessing the data\n",
    "* The JSON data has a key called `Response`. If it is `True`, that means the read was successful. Check this before processing the data. If not successful, then print the JSON key `Error`, which will contain the appropriate error message returned by the movie database."
   ]
  },
  {
   "cell_type": "code",
   "execution_count": 136,
   "metadata": {},
   "outputs": [],
   "source": [
    "# search_movie function to search a movie by its name, and print the downloaded JSON data using print_json function. \n",
    "def search_movie(title):\n",
    "    try:\n",
    "        url = serviceurl + urllib.parse.urlencode({'t': str(title)})+apikey # use apikey that contains my API key\n",
    "        print(f'Retrieving the data of \"{title}\" now... ')\n",
    "        print(url)\n",
    "        uh = urllib.request.urlopen(url)\n",
    "        data = uh.read()\n",
    "        json_data=json.loads(data)\n",
    "        \n",
    "        if json_data['Response']=='True':\n",
    "            print_json(json_data)\n",
    "            # Asks user whether to download the poster of the movie\n",
    "            if json_data['Poster']!='N/A':\n",
    "                save_poster(json_data)\n",
    "        else:\n",
    "            print(\"Error encountered: \",json_data['Error'])\n",
    "    \n",
    "    except urllib.error.URLError as e:\n",
    "        print(f\"ERROR: {e.reason}\")"
   ]
  },
  {
   "cell_type": "markdown",
   "metadata": {},
   "source": [
    "### Test `search_movie` function by entering *Titanic*"
   ]
  },
  {
   "cell_type": "code",
   "execution_count": 137,
   "metadata": {},
   "outputs": [
    {
     "name": "stdout",
     "output_type": "stream",
     "text": [
      "Retrieving the data of \"Titanic\" now... \n",
      "http://www.omdbapi.com/?t=Titanic&apikey=a41b8caf\n",
      "--------------------------------------------------\n",
      "Title: Titanic\n",
      "Year: 1997\n",
      "Rated: PG-13\n",
      "Released: 19 Dec 1997\n",
      "Runtime: 194 min\n",
      "Genre: Drama, Romance\n",
      "Director: James Cameron\n",
      "Writer: James Cameron\n",
      "Actors: Leonardo DiCaprio, Kate Winslet, Billy Zane\n",
      "Plot: A seventeen-year-old aristocrat falls in love with a kind but poor artist aboard the luxurious, ill-fated R.M.S. Titanic.\n",
      "Language: English, Swedish, Italian, French\n",
      "Country: United States, Mexico, Australia\n",
      "Awards: Won 11 Oscars. 125 wins & 83 nominations total\n",
      "Ratings: [{'Source': 'Internet Movie Database', 'Value': '7.8/10'}, {'Source': 'Rotten Tomatoes', 'Value': '89%'}, {'Source': 'Metacritic', 'Value': '75/100'}]\n",
      "Metascore: 75\n",
      "imdbRating: 7.8\n",
      "imdbVotes: 1,098,236\n",
      "imdbID: tt0120338\n",
      "--------------------------------------------------\n"
     ]
    }
   ],
   "source": [
    "# Call the search_movie function and pass the movie title \"Titanic\" which also downloads the poster\n",
    "search_movie(\"Titanic\")"
   ]
  },
  {
   "cell_type": "markdown",
   "metadata": {},
   "source": [
    "### Test `search_movie` function by entering \"*Random_error*\" (obviously this will not be found and you should be able to check whether your error catching code is working properly)"
   ]
  },
  {
   "cell_type": "code",
   "execution_count": 138,
   "metadata": {},
   "outputs": [
    {
     "name": "stdout",
     "output_type": "stream",
     "text": [
      "Retrieving the data of \"Random_error\" now... \n",
      "http://www.omdbapi.com/?t=Random_error&apikey=a41b8caf\n",
      "Error encountered:  Movie not found!\n"
     ]
    }
   ],
   "source": [
    "# Call the search_movie function and pass the the string \"Random_error\" to check that it won't pull random names\n",
    "search_movie(\"Random_error\")"
   ]
  },
  {
   "cell_type": "markdown",
   "metadata": {},
   "source": [
    "### Look for a folder called 'Posters' in the same directory you are working in. It should contain a file called 'Titanic.jpg'. Open and see if the poster came alright!"
   ]
  },
  {
   "cell_type": "code",
   "execution_count": 173,
   "metadata": {},
   "outputs": [],
   "source": [
    "# The Titanic movie poster did download to my Jupyter Notebook space!\n",
    "\n",
    "# Imports PIL module \n",
    "from PIL import Image\n",
    "  \n",
    "# open method used to open different extension image file\n",
    "im = Image.open(r\"C:\\Users\\kadams\\Downloads\\DSC540_Packt-Data_Wrangling-master\\Packt-Data_Wrangling-master\\Weekly Exercises\\Posters\\Titanic.jpg\") \n",
    "  \n",
    "# This method will show image in any image viewer\n",
    "im.show() \n",
    "\n",
    "## The image was displayed in the Photos program on my local computer!"
   ]
  },
  {
   "cell_type": "code",
   "execution_count": null,
   "metadata": {},
   "outputs": [],
   "source": []
  }
 ],
 "metadata": {
  "kernelspec": {
   "display_name": "Python 3",
   "language": "python",
   "name": "python3"
  },
  "language_info": {
   "codemirror_mode": {
    "name": "ipython",
    "version": 3
   },
   "file_extension": ".py",
   "mimetype": "text/x-python",
   "name": "python",
   "nbconvert_exporter": "python",
   "pygments_lexer": "ipython3",
   "version": "3.8.8"
  },
  "latex_envs": {
   "LaTeX_envs_menu_present": true,
   "autoclose": false,
   "autocomplete": true,
   "bibliofile": "biblio.bib",
   "cite_by": "apalike",
   "current_citInitial": 1,
   "eqLabelWithNumbers": true,
   "eqNumInitial": 1,
   "hotkeys": {
    "equation": "Ctrl-E",
    "itemize": "Ctrl-I"
   },
   "labels_anchors": false,
   "latex_user_defs": false,
   "report_style_numbering": false,
   "user_envs_cfg": false
  }
 },
 "nbformat": 4,
 "nbformat_minor": 2
}
