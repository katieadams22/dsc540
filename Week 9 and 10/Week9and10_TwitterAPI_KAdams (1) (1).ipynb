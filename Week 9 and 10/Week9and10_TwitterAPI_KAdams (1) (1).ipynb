{
 "cells": [
  {
   "cell_type": "markdown",
   "id": "f9c0e54b",
   "metadata": {},
   "source": [
    "## Connect to the Twitter API and do a simple data pull: If you don’t have a twitter account – create one at twitter.com/signup (you can delete the account after this assignment)"
   ]
  },
  {
   "cell_type": "markdown",
   "id": "fff7de0d",
   "metadata": {},
   "source": [
    "## Sign in to apps.twitter.com"
   ]
  },
  {
   "cell_type": "markdown",
   "id": "cb224b18",
   "metadata": {},
   "source": [
    "## Click “Create New App”"
   ]
  },
  {
   "cell_type": "code",
   "execution_count": null,
   "id": "8ac797cd",
   "metadata": {},
   "outputs": [],
   "source": [
    "## No \"Create New App\" button, but there is a \"Create Project\" button, which then created a Project and a Project App"
   ]
  },
  {
   "cell_type": "markdown",
   "id": "376de927",
   "metadata": {},
   "source": [
    "## Give your app a name and description"
   ]
  },
  {
   "cell_type": "code",
   "execution_count": null,
   "id": "84b6391c",
   "metadata": {},
   "outputs": [],
   "source": [
    "## Project Name: Data Science Masters Program\n",
    "## Project App Name: Data Science Masters\n",
    "## Description: App to pull back data searching for “Bellevue University” and “Data Science”"
   ]
  },
  {
   "cell_type": "markdown",
   "id": "e1f951be",
   "metadata": {},
   "source": [
    "## Agree to the developer agreement – you will want to make sure to indicate this is for a class project, and this step can take several days to get through, so don’t wait until last minute to complete this portion of the assignment"
   ]
  },
  {
   "cell_type": "code",
   "execution_count": null,
   "id": "13fba8a0",
   "metadata": {},
   "outputs": [],
   "source": [
    "## There was no app developer agreement window posted after creating the App, I think the Twitter version has changed where \n",
    "## this is not a requirement to create an App or Project"
   ]
  },
  {
   "cell_type": "markdown",
   "id": "91fa7271",
   "metadata": {},
   "source": [
    "## Create an access token: Once you have the application created, you’ll find the relevant keys and tokens under the Keys and Access Tokens section."
   ]
  },
  {
   "cell_type": "code",
   "execution_count": null,
   "id": "6c72ddaa",
   "metadata": {},
   "outputs": [],
   "source": [
    "## Access Token:158547174-WBLPJx2GsRmt2IMCpuEmI0CFn4TThI7vduC3HEq3\n",
    "## Access Token Secret: EugSkfSTM5WsHq5FbzSjsmkrtbqD1uti0w5k6sj7b7yjT\n",
    "## Bearer Token: AAAAAAAAAAAAAAAAAAAAAPB%2BVAEAAAAAZrFtHjcpxilYSQelo8Y7gaYKPps%3DZ93ubY7GpjGHVxGpf2OxVVW8FAVrV5KeJo37wuFLRCuqQ27SCY"
   ]
  },
  {
   "cell_type": "markdown",
   "id": "4d7baab9",
   "metadata": {},
   "source": [
    "## You should receive a consumer key and a token"
   ]
  },
  {
   "cell_type": "code",
   "execution_count": null,
   "id": "0599acc7",
   "metadata": {},
   "outputs": [],
   "source": [
    "## API Key (Consumer Key): 2tqcZTmeP3H7BwOyIMMq1LRrE\n",
    "## API Key Secret (Consumer Secret): iFcQ9yLwFs1LZqzsXuM1UUS1iXQPbUoLPS2RXxPC6H9zqMmZjI"
   ]
  },
  {
   "cell_type": "markdown",
   "id": "edc4ad88",
   "metadata": {},
   "source": [
    "## Using either the instructions from the book on connecting to an API or for help look here – pull back data searching for “Bellevue University” and “Data Science” (or something else you are interested in)"
   ]
  },
  {
   "cell_type": "code",
   "execution_count": null,
   "id": "5f3401d1",
   "metadata": {},
   "outputs": [],
   "source": [
    "# https://www.sitepoint.com/how-to-create-a-twitter-app-and-api-interface-via-python/\n",
    "# https://python-twitter.readthedocs.io/en/latest/\n",
    "## Description: App to pull back data searching for “Bellevue University” and “Data Science” (or something else you are interested in)"
   ]
  },
  {
   "cell_type": "code",
   "execution_count": 2,
   "id": "dae3d9b9",
   "metadata": {},
   "outputs": [
    {
     "name": "stdout",
     "output_type": "stream",
     "text": [
      "Collecting python-twitter\n",
      "  Downloading python_twitter-3.5-py2.py3-none-any.whl (67 kB)\n",
      "Requirement already satisfied: requests in c:\\users\\kadams\\anaconda3\\lib\\site-packages (from python-twitter) (2.25.1)\n",
      "Requirement already satisfied: future in c:\\users\\kadams\\anaconda3\\lib\\site-packages (from python-twitter) (0.18.2)\n",
      "Collecting requests-oauthlib\n",
      "  Downloading requests_oauthlib-1.3.0-py2.py3-none-any.whl (23 kB)\n",
      "Requirement already satisfied: urllib3<1.27,>=1.21.1 in c:\\users\\kadams\\anaconda3\\lib\\site-packages (from requests->python-twitter) (1.26.4)\n",
      "Requirement already satisfied: chardet<5,>=3.0.2 in c:\\users\\kadams\\anaconda3\\lib\\site-packages (from requests->python-twitter) (4.0.0)\n",
      "Requirement already satisfied: idna<3,>=2.5 in c:\\users\\kadams\\anaconda3\\lib\\site-packages (from requests->python-twitter) (2.10)\n",
      "Requirement already satisfied: certifi>=2017.4.17 in c:\\users\\kadams\\anaconda3\\lib\\site-packages (from requests->python-twitter) (2020.12.5)\n",
      "Collecting oauthlib>=3.0.0\n",
      "  Downloading oauthlib-3.1.1-py2.py3-none-any.whl (146 kB)\n",
      "Installing collected packages: oauthlib, requests-oauthlib, python-twitter\n",
      "Successfully installed oauthlib-3.1.1 python-twitter-3.5 requests-oauthlib-1.3.0\n"
     ]
    }
   ],
   "source": [
    "! pip install python-twitter #install python-twitter library"
   ]
  },
  {
   "cell_type": "code",
   "execution_count": 3,
   "id": "337b387e",
   "metadata": {},
   "outputs": [],
   "source": [
    "import twitter #import twitter library"
   ]
  },
  {
   "cell_type": "code",
   "execution_count": 4,
   "id": "2b6c6107",
   "metadata": {},
   "outputs": [],
   "source": [
    "# Enter twitter credentials\n",
    "api = twitter.Api(consumer_key='2tqcZTmeP3H7BwOyIMMq1LRrE',\n",
    "  consumer_secret='iFcQ9yLwFs1LZqzsXuM1UUS1iXQPbUoLPS2RXxPC6H9zqMmZjI',\n",
    "    access_token_key='158547174-WBLPJx2GsRmt2IMCpuEmI0CFn4TThI7vduC3HEq3',\n",
    "    access_token_secret='EugSkfSTM5WsHq5FbzSjsmkrtbqD1uti0w5k6sj7b7yjT')"
   ]
  },
  {
   "cell_type": "code",
   "execution_count": 5,
   "id": "3508a6d3",
   "metadata": {},
   "outputs": [
    {
     "name": "stdout",
     "output_type": "stream",
     "text": [
      "{\"created_at\": \"Wed Jun 23 00:29:55 +0000 2010\", \"default_profile\": true, \"favourites_count\": 4, \"followers_count\": 6, \"friends_count\": 37, \"id\": 158547174, \"id_str\": \"158547174\", \"name\": \"Katie Adams\", \"profile_background_color\": \"C0DEED\", \"profile_background_image_url\": \"http://abs.twimg.com/images/themes/theme1/bg.png\", \"profile_background_image_url_https\": \"https://abs.twimg.com/images/themes/theme1/bg.png\", \"profile_banner_url\": \"https://pbs.twimg.com/profile_banners/158547174/1414728914\", \"profile_image_url\": \"http://pbs.twimg.com/profile_images/528037459582783488/svHy8mQX_normal.jpeg\", \"profile_image_url_https\": \"https://pbs.twimg.com/profile_images/528037459582783488/svHy8mQX_normal.jpeg\", \"profile_link_color\": \"1DA1F2\", \"profile_sidebar_border_color\": \"C0DEED\", \"profile_sidebar_fill_color\": \"DDEEF6\", \"profile_text_color\": \"333333\", \"profile_use_background_image\": true, \"screen_name\": \"KatieAdams22\", \"status\": {\"created_at\": \"Wed Aug 01 14:22:42 +0000 2018\", \"favorite_count\": 1, \"id\": 1024661704322428929, \"id_str\": \"1024661704322428929\", \"in_reply_to_screen_name\": \"calgarytransit\", \"in_reply_to_status_id\": 1024660747408814081, \"in_reply_to_user_id\": 26782762, \"lang\": \"en\", \"source\": \"<a href=\\\"https://mobile.twitter.com\\\" rel=\\\"nofollow\\\">Twitter Web App</a>\", \"text\": \"@calgarytransit Station I boarded was Somerset-Bridlewood, and time was 7:30AM!\"}, \"statuses_count\": 40, \"withheld_in_countries\": []}\n"
     ]
    }
   ],
   "source": [
    "# Show API credentials using my twitter account details\n",
    "print(api.VerifyCredentials())"
   ]
  },
  {
   "cell_type": "code",
   "execution_count": 6,
   "id": "59d42cd1",
   "metadata": {},
   "outputs": [
    {
     "data": {
      "text/plain": [
       "[Status(ID=1452715224709091330, ScreenName=RyanKronberg, Created=Mon Oct 25 19:14:34 +0000 2021, Text='Officially \"official\" - now just to sign up for classes and a couple other lil things with Bellevue University and… https://t.co/rE87SLeJP5'),\n",
       " Status(ID=1452704284873826312, ScreenName=KearneyHub, Created=Mon Oct 25 18:31:06 +0000 2021, Text='Attacks like those on Sandhills Publishing and Sinclair Broadcasting are becoming more prevalent, likely because mo… https://t.co/6FGCgUfdJL'),\n",
       " Status(ID=1452701012863725576, ScreenName=theindependent, Created=Mon Oct 25 18:18:06 +0000 2021, Text='Attacks like those on Sandhills Publishing and Sinclair Broadcasting are becoming more prevalent, likely because mo… https://t.co/DJIRKkEqZV'),\n",
       " Status(ID=1452700760370827270, ScreenName=yorknewstimes, Created=Mon Oct 25 18:17:05 +0000 2021, Text='Attacks like those on Sandhills Publishing and Sinclair Broadcasting are becoming more prevalent, likely because mo… https://t.co/bASW0SfVK3'),\n",
       " Status(ID=1452699251457282052, ScreenName=nonpareilonline, Created=Mon Oct 25 18:11:06 +0000 2021, Text='Attacks like those on Sandhills Publishing and Sinclair Broadcasting are becoming more prevalent, likely because mo… https://t.co/0FDApaovkb'),\n",
       " Status(ID=1452697742153760777, ScreenName=FremontTribune, Created=Mon Oct 25 18:05:06 +0000 2021, Text='Attacks like those on Sandhills Publishing and Sinclair Broadcasting are becoming more prevalent, likely because mo… https://t.co/f9mB3fA5f5'),\n",
       " Status(ID=1452697742145433605, ScreenName=NPTelegraph, Created=Mon Oct 25 18:05:06 +0000 2021, Text='Attacks like those on Sandhills Publishing and Sinclair Broadcasting are becoming more prevalent, likely because mo… https://t.co/5oAYpLaGcK'),\n",
       " Status(ID=1452697236442333196, ScreenName=ClipperHerald, Created=Mon Oct 25 18:03:05 +0000 2021, Text='Attacks like those on Sandhills Publishing and Sinclair Broadcasting are becoming more prevalent, likely because mo… https://t.co/4pwj9I6Ifl'),\n",
       " Status(ID=1452697236161314816, ScreenName=scj, Created=Mon Oct 25 18:03:05 +0000 2021, Text='Attacks like those on Sandhills Publishing and Sinclair Broadcasting are becoming more prevalent, likely because mo… https://t.co/4HEtvQHMn7'),\n",
       " Status(ID=1452697233376391174, ScreenName=CTelegram, Created=Mon Oct 25 18:03:04 +0000 2021, Text='Attacks like those on Sandhills Publishing and Sinclair Broadcasting are becoming more prevalent, likely because mo… https://t.co/Fll1a3iRjV'),\n",
       " Status(ID=1452696983790100496, ScreenName=BeaDailySunNews, Created=Mon Oct 25 18:02:05 +0000 2021, Text='Attacks like those on Sandhills Publishing and Sinclair Broadcasting are becoming more prevalent, likely because mo… https://t.co/zhqDJwKhlE'),\n",
       " Status(ID=1452696733172043780, ScreenName=sbstarherald, Created=Mon Oct 25 18:01:05 +0000 2021, Text='Attacks like those on Sandhills Publishing and Sinclair Broadcasting are becoming more prevalent, likely because mo… https://t.co/rydOiIj4SC'),\n",
       " Status(ID=1452681489179680777, ScreenName=BellevueU, Created=Mon Oct 25 17:00:31 +0000 2021, Text='The obligatory First Day of School photo never goes out of style. \\n\\nCongratulations @_haley__nicole_ on pursuing yo… https://t.co/kHG97i0JnX'),\n",
       " Status(ID=1452658134368014336, ScreenName=central_may, Created=Mon Oct 25 15:27:42 +0000 2021, Text='Interested in transferring to Bellevue University after completing your Associates degree at CCC?\\nYou should talk w… https://t.co/tp4CZlTkaw'),\n",
       " Status(ID=1452410094835183624, ScreenName=JournalStarNews, Created=Sun Oct 24 23:02:05 +0000 2021, Text='Attacks like those on Sandhills Publishing and Sinclair Broadcasting are becoming more prevalent, likely because mo… https://t.co/MIkTXxBihm'),\n",
       " Status(ID=1452181591082536961, ScreenName=animeAllAttends, Created=Sun Oct 24 07:54:06 +0000 2021, Text='Every Anime Girl went to Bellevue University'),\n",
       " Status(ID=1451705587188838409, ScreenName=VCSUVikings, Created=Sat Oct 23 00:22:38 +0000 2021, Text='Volleyball - Lost 3-0 (25-23, 25-18, 25-12) to (8)Bellevue University'),\n",
       " Status(ID=1451627063555891200, ScreenName=jacob_bellevue, Created=Fri Oct 22 19:10:36 +0000 2021, Text='There is no protest at Howard University. https://t.co/8V2G0MGogl'),\n",
       " Status(ID=1451620967520694276, ScreenName=eloveridge21, Created=Fri Oct 22 18:46:23 +0000 2021, Text='RT @emmamadej: I am excited to announce my commitment to play soccer for Bellevue University starting next fall! #Bruins @BU_WomenSoccer ht…'),\n",
       " Status(ID=1451513711781351426, ScreenName=TheoryOfRosie, Created=Fri Oct 22 11:40:11 +0000 2021, Text='RT @luminarium: Meet Emily Mwaja! Emily is a member of the Kiewit Luminarium Advisory Group &amp; Director of Programs at @GirlsIncOmaha. A gra…')]"
      ]
     },
     "execution_count": 6,
     "metadata": {},
     "output_type": "execute_result"
    }
   ],
   "source": [
    "## Conduct search for the term \"Bellevue University\" in Python that searches for tweets since January 1, 2021 \n",
    "## capping the number returns at 20\n",
    "api.GetSearch(term='Bellevue University', since=2021-1-1, count=20)"
   ]
  },
  {
   "cell_type": "code",
   "execution_count": 7,
   "id": "84093b9c",
   "metadata": {},
   "outputs": [
    {
     "data": {
      "text/plain": [
       "[Status(ID=1452600718230269960, ScreenName=EssexPR, Created=Mon Oct 25 11:39:33 +0000 2021, Text='I truly hope that truthful debate and a truthful picture of the data, science and Covid situation will be allowed t… https://t.co/XyR81cFczs'),\n",
       " Status(ID=1452474287093272580, ScreenName=DGHisham, Created=Mon Oct 25 03:17:10 +0000 2021, Text='Leaders need to take the best decision based on science, facts &amp; data. We need to continue to mitigate the spread o… https://t.co/qyKa0kimva'),\n",
       " Status(ID=1452699538699993088, ScreenName=NathanStall, Created=Mon Oct 25 18:12:14 +0000 2021, Text='Ford’s decision to use calendar dates rather than public health metrics for removing vaccine certificates is a page… https://t.co/EZkJNh5xCL'),\n",
       " Status(ID=1452741845398654978, ScreenName=fullNam35087976, Created=Mon Oct 25 21:00:21 +0000 2021, Text='RT @2018Iptv: Top #MachineLearning Algorithms for Prediction\\nhttps://t.co/zD7tQCnHHo\\n\\n#DeepLearning #AI #DigitalTransformation #BigData #An…'),\n",
       " Status(ID=1452741841623953417, ScreenName=MathieuPiton, Created=Mon Oct 25 21:00:20 +0000 2021, Text='How to Build Strong Data Science Portfolio as a Beginner: https://t.co/LJP4riTUI1'),\n",
       " Status(ID=1452741841615458320, ScreenName=MathieuPiton, Created=Mon Oct 25 21:00:20 +0000 2021, Text='How to Ace Data Science Interview by Working on Portfolio Projects: https://t.co/ucfaxOlmZy'),\n",
       " Status(ID=1452741800293175302, ScreenName=UTM, Created=Mon Oct 25 21:00:10 +0000 2021, Text='Attention ALL students! \\n@MBiotech_News Digital Health Technologies Stream is offering the 2021 Octagon Health Data… https://t.co/grD2SwD5Ri'),\n",
       " Status(ID=1452741775513227264, ScreenName=TheCuriousLuke, Created=Mon Oct 25 21:00:04 +0000 2021, Text='RT @2018Iptv: Top #MachineLearning Algorithms for Prediction\\nhttps://t.co/zD7tQCnHHo\\n\\n#DeepLearning #AI #DigitalTransformation #BigData #An…'),\n",
       " Status(ID=1452741759453237253, ScreenName=FruLouis, Created=Mon Oct 25 21:00:00 +0000 2021, Text='Data analytics is a key part of the data science field. #TechWithFru'),\n",
       " Status(ID=1452741733356290050, ScreenName=Daddiek1, Created=Mon Oct 25 20:59:54 +0000 2021, Text='RT @ValArkooshPA: .@FLSurgeonGen, we took an oath as physicians to do no harm. Yet you continue to lie about the science and data behind ou…'),\n",
       " Status(ID=1452741708530298880, ScreenName=py_data_sci, Created=Mon Oct 25 20:59:48 +0000 2021, Text='RT @2018Iptv: Top #MachineLearning Algorithms for Prediction\\nhttps://t.co/zD7tQCnHHo\\n\\n#DeepLearning #AI #DigitalTransformation #BigData #An…'),\n",
       " Status(ID=1452741454116315143, ScreenName=feedpushr, Created=Mon Oct 25 20:58:47 +0000 2021, Text='How to Build Strong Data Science Portfolio as a Beginner\\nhttps://t.co/PjvMcZ9SXy'),\n",
       " Status(ID=1452741453076127749, ScreenName=feedpushr, Created=Mon Oct 25 20:58:47 +0000 2021, Text='How to Ace Data Science Interview by Working on Portfolio Projects\\nhttps://t.co/QB80QMX3lL'),\n",
       " Status(ID=1452741266245144583, ScreenName=Ronald_vanLoon, Created=Mon Oct 25 20:58:03 +0000 2021, Text='Creating a #DataScience Portfolio\\nby @MaartenGr @Medium\\n\\nLearn more: https://t.co/gac4Qcy6wS\\n\\n#DataAnalytics #AI… https://t.co/Qk1iFlKHvD'),\n",
       " Status(ID=1452741260037427200, ScreenName=16kthir0GRXgNqn, Created=Mon Oct 25 20:58:01 +0000 2021, Text='RT @Blog_R_: GPT-4 Will Have 100 Trillion Parameters — 500x the Size of GPT-3.\\nARTIFICIAL INTELLIGENCE | NEWS\\nhttps://t.co/9PltlnIYwp\\n#Digi…'),\n",
       " Status(ID=1452741245852393477, ScreenName=adamson, Created=Mon Oct 25 20:57:58 +0000 2021, Text='Data Science Nation is out! https://t.co/VXfMxhVCiX #datascience #machinelearning'),\n",
       " Status(ID=1452741223194759171, ScreenName=datarade, Created=Mon Oct 25 20:57:52 +0000 2021, Text='$FB has more than Axciom levels of data on FB users. \\n\\nSacrifice altitude ($FB API restrictions) to gain air speed… https://t.co/TkBwjwWbre'),\n",
       " Status(ID=1452741212436262914, ScreenName=RD41406156, Created=Mon Oct 25 20:57:50 +0000 2021, Text='RT @Vaccinologist: #COVID19 progression: An approximate timeline from #infection with severe acute respiratory syndrome coronavirus 2 [#SAR…'),\n",
       " Status(ID=1452741125719035906, ScreenName=NafYochanan, Created=Mon Oct 25 20:57:29 +0000 2021, Text='@AdamSma08580545 @carlon_ariel @kylenabecker This is narrow thinking. To believe that mankind is at its height in l… https://t.co/d24S1R6jCp'),\n",
       " Status(ID=1452741110661533696, ScreenName=NNorma192, Created=Mon Oct 25 20:57:26 +0000 2021, Text='@ccleighton @JekyllnHeid @CPC_HQ @OsgoodeNews @erinotoole Con Leslie Lewis got her law degree in Jamaica🇯🇲. Is shel… https://t.co/pQDVytRgnF')]"
      ]
     },
     "execution_count": 7,
     "metadata": {},
     "output_type": "execute_result"
    }
   ],
   "source": [
    "## Conduct search for the term \"Data Science\" in Python that searches for tweets since January 1, 2021 \n",
    "## capping the number returns at 20\n",
    "api.GetSearch(term='Data Science', since=2021-1-1, count=20)"
   ]
  },
  {
   "cell_type": "code",
   "execution_count": null,
   "id": "7ee08146",
   "metadata": {},
   "outputs": [],
   "source": []
  }
 ],
 "metadata": {
  "kernelspec": {
   "display_name": "Python 3",
   "language": "python",
   "name": "python3"
  },
  "language_info": {
   "codemirror_mode": {
    "name": "ipython",
    "version": 3
   },
   "file_extension": ".py",
   "mimetype": "text/x-python",
   "name": "python",
   "nbconvert_exporter": "python",
   "pygments_lexer": "ipython3",
   "version": "3.8.8"
  }
 },
 "nbformat": 4,
 "nbformat_minor": 5
}
