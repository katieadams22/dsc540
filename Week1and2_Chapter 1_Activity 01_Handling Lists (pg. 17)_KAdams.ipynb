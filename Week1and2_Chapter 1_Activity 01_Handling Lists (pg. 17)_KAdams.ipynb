{
 "cells": [
  {
   "cell_type": "markdown",
   "metadata": {},
   "source": [
    "## Activity 1: Handling Lists\n",
    "### 1. Create a list of 100 random numbers"
   ]
  },
  {
   "cell_type": "code",
   "execution_count": 15,
   "metadata": {},
   "outputs": [],
   "source": [
    "import random\n",
    "\n",
    "LIMIT = 100\n",
    "random_number_list = [random.randint(0, LIMIT) for x in range(0, LIMIT)]"
   ]
  },
  {
   "cell_type": "code",
   "execution_count": 16,
   "metadata": {},
   "outputs": [
    {
     "data": {
      "text/plain": [
       "[32,\n",
       " 25,\n",
       " 38,\n",
       " 88,\n",
       " 18,\n",
       " 69,\n",
       " 4,\n",
       " 47,\n",
       " 60,\n",
       " 52,\n",
       " 89,\n",
       " 61,\n",
       " 17,\n",
       " 97,\n",
       " 29,\n",
       " 41,\n",
       " 37,\n",
       " 86,\n",
       " 96,\n",
       " 18,\n",
       " 6,\n",
       " 55,\n",
       " 72,\n",
       " 42,\n",
       " 79,\n",
       " 56,\n",
       " 37,\n",
       " 44,\n",
       " 55,\n",
       " 19,\n",
       " 66,\n",
       " 66,\n",
       " 73,\n",
       " 28,\n",
       " 22,\n",
       " 2,\n",
       " 97,\n",
       " 21,\n",
       " 3,\n",
       " 1,\n",
       " 42,\n",
       " 94,\n",
       " 30,\n",
       " 29,\n",
       " 55,\n",
       " 90,\n",
       " 33,\n",
       " 61,\n",
       " 89,\n",
       " 100,\n",
       " 52,\n",
       " 75,\n",
       " 20,\n",
       " 9,\n",
       " 61,\n",
       " 54,\n",
       " 22,\n",
       " 19,\n",
       " 63,\n",
       " 55,\n",
       " 29,\n",
       " 13,\n",
       " 24,\n",
       " 42,\n",
       " 75,\n",
       " 18,\n",
       " 36,\n",
       " 1,\n",
       " 14,\n",
       " 78,\n",
       " 98,\n",
       " 64,\n",
       " 51,\n",
       " 14,\n",
       " 31,\n",
       " 40,\n",
       " 37,\n",
       " 50,\n",
       " 51,\n",
       " 21,\n",
       " 26,\n",
       " 22,\n",
       " 1,\n",
       " 64,\n",
       " 89,\n",
       " 23,\n",
       " 6,\n",
       " 92,\n",
       " 71,\n",
       " 63,\n",
       " 53,\n",
       " 61,\n",
       " 53,\n",
       " 10,\n",
       " 67,\n",
       " 62,\n",
       " 37,\n",
       " 53,\n",
       " 51,\n",
       " 35]"
      ]
     },
     "execution_count": 16,
     "metadata": {},
     "output_type": "execute_result"
    }
   ],
   "source": [
    "random_number_list"
   ]
  },
  {
   "cell_type": "markdown",
   "metadata": {},
   "source": [
    "### 2. Create a new list from this random list, with numbers that are divisible by 3"
   ]
  },
  {
   "cell_type": "code",
   "execution_count": 17,
   "metadata": {},
   "outputs": [],
   "source": [
    "\n",
    "list_with_divisible_by_3 = [a for a in random_number_list if a % 3 == 0]"
   ]
  },
  {
   "cell_type": "code",
   "execution_count": 18,
   "metadata": {},
   "outputs": [
    {
     "data": {
      "text/plain": [
       "[18,\n",
       " 69,\n",
       " 60,\n",
       " 96,\n",
       " 18,\n",
       " 6,\n",
       " 72,\n",
       " 42,\n",
       " 66,\n",
       " 66,\n",
       " 21,\n",
       " 3,\n",
       " 42,\n",
       " 30,\n",
       " 90,\n",
       " 33,\n",
       " 75,\n",
       " 9,\n",
       " 54,\n",
       " 63,\n",
       " 24,\n",
       " 42,\n",
       " 75,\n",
       " 18,\n",
       " 36,\n",
       " 78,\n",
       " 51,\n",
       " 51,\n",
       " 21,\n",
       " 6,\n",
       " 63,\n",
       " 51]"
      ]
     },
     "execution_count": 18,
     "metadata": {},
     "output_type": "execute_result"
    }
   ],
   "source": [
    "list_with_divisible_by_3"
   ]
  },
  {
   "cell_type": "markdown",
   "metadata": {},
   "source": [
    "### 3. Calculate the length of these two lists and store the difference in a new variable"
   ]
  },
  {
   "cell_type": "code",
   "execution_count": 19,
   "metadata": {},
   "outputs": [
    {
     "data": {
      "text/plain": [
       "68"
      ]
     },
     "execution_count": 19,
     "metadata": {},
     "output_type": "execute_result"
    }
   ],
   "source": [
    "length_of_random_list = len(random_number_list)\n",
    "length_of_3_divisible_list = len(list_with_divisible_by_3)\n",
    "difference = length_of_random_list - length_of_3_divisible_list\n",
    "difference"
   ]
  },
  {
   "cell_type": "markdown",
   "metadata": {},
   "source": [
    "### 4. Using a loop, perform steps 2 and 3 and find the difference variable three times"
   ]
  },
  {
   "cell_type": "code",
   "execution_count": 20,
   "metadata": {},
   "outputs": [
    {
     "data": {
      "text/plain": [
       "[67, 66, 66, 73, 62, 60, 65, 64, 65, 60]"
      ]
     },
     "execution_count": 20,
     "metadata": {},
     "output_type": "execute_result"
    }
   ],
   "source": [
    "NUMBER_OF_EXPERIMENTS = 10\n",
    "difference_list = []\n",
    "for i in range(0, NUMBER_OF_EXPERIMENTS):\n",
    "    random_number_list = [random.randint(0, LIMIT) for x in range(0, LIMIT)]\n",
    "    list_with_divisible_by_3 = [a for a in random_number_list if a % 3 == 0]\n",
    "    \n",
    "    length_of_random_list = len(random_number_list)\n",
    "    length_of_3_divisible_list = len(list_with_divisible_by_3)\n",
    "    difference = length_of_random_list - length_of_3_divisible_list\n",
    "    \n",
    "    difference_list.append(difference)\n",
    "difference_list"
   ]
  },
  {
   "cell_type": "markdown",
   "metadata": {},
   "source": [
    "### 5. Find the arithmetic mean of these three difference values"
   ]
  },
  {
   "cell_type": "code",
   "execution_count": 22,
   "metadata": {},
   "outputs": [
    {
     "data": {
      "text/plain": [
       "64.8"
      ]
     },
     "execution_count": 22,
     "metadata": {},
     "output_type": "execute_result"
    }
   ],
   "source": [
    "avg_diff = sum(difference_list) / float(len(difference_list))\n",
    "avg_diff"
   ]
  }
 ],
 "metadata": {
  "kernelspec": {
   "display_name": "Python 3",
   "language": "python",
   "name": "python3"
  },
  "language_info": {
   "codemirror_mode": {
    "name": "ipython",
    "version": 3
   },
   "file_extension": ".py",
   "mimetype": "text/x-python",
   "name": "python",
   "nbconvert_exporter": "python",
   "pygments_lexer": "ipython3",
   "version": "3.8.8"
  }
 },
 "nbformat": 4,
 "nbformat_minor": 2
}
