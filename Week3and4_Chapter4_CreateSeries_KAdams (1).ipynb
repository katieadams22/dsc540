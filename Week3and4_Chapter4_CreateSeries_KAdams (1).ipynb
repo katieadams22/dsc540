{
 "cells": [
  {
   "cell_type": "markdown",
   "id": "cda30d93",
   "metadata": {},
   "source": [
    "## Create a series and practice basic arithmetic steps"
   ]
  },
  {
   "cell_type": "code",
   "execution_count": 3,
   "id": "9c4f2d36",
   "metadata": {},
   "outputs": [],
   "source": [
    "import pandas as pd"
   ]
  },
  {
   "cell_type": "code",
   "execution_count": 4,
   "id": "b676c273",
   "metadata": {},
   "outputs": [
    {
     "name": "stdout",
     "output_type": "stream",
     "text": [
      "a    7.3\n",
      "c   -2.5\n",
      "d    3.4\n",
      "e    1.5\n",
      "dtype: float64\n"
     ]
    }
   ],
   "source": [
    "# Series 1 = 7.3, -2.5, 3.4, 1.5; Index = ‘a’, ‘c’, ‘d’, ‘e’\n",
    "# Created Series1 variable to contain the series and index listed above using panda's series function\n",
    "Series1 = pd.Series([7.3, -2.5, 3.4, 1.5], index=['a', 'c', 'd', 'e'])\n",
    "print(Series1)"
   ]
  },
  {
   "cell_type": "code",
   "execution_count": 5,
   "id": "c8cbba74",
   "metadata": {},
   "outputs": [
    {
     "name": "stdout",
     "output_type": "stream",
     "text": [
      "a   -2.1\n",
      "c    3.6\n",
      "e   -1.5\n",
      "f    4.0\n",
      "g    3.1\n",
      "dtype: float64\n"
     ]
    }
   ],
   "source": [
    "# Series 2 = -2.1, 3.6, -1.5, 4, 3.1; Index = ‘a’, ‘c’, ‘e’, ‘f’, ‘g’\n",
    "# Created Series2 variable to contain the series and index listed above using panda's series function\n",
    "Series2 = pd.Series([-2.1, 3.6, -1.5, 4, 3.1], index=['a', 'c', 'e', 'f', 'g'])\n",
    "print(Series2)"
   ]
  },
  {
   "cell_type": "code",
   "execution_count": 6,
   "id": "ff13c3d9",
   "metadata": {},
   "outputs": [
    {
     "name": "stdout",
     "output_type": "stream",
     "text": [
      "a    5.2\n",
      "c    1.1\n",
      "d    NaN\n",
      "e    0.0\n",
      "f    NaN\n",
      "g    NaN\n",
      "dtype: float64\n"
     ]
    }
   ],
   "source": [
    "# Add Series 1 and Series 2 together and print the results\n",
    "# Created SeriesAdd variable to contain the sum of Series1 and Series2\n",
    "SeriesAdd = Series1+Series2\n",
    "print(SeriesAdd)"
   ]
  },
  {
   "cell_type": "code",
   "execution_count": 7,
   "id": "47589dc2",
   "metadata": {},
   "outputs": [
    {
     "name": "stdout",
     "output_type": "stream",
     "text": [
      "a   -9.4\n",
      "c    6.1\n",
      "d    NaN\n",
      "e   -3.0\n",
      "f    NaN\n",
      "g    NaN\n",
      "dtype: float64\n"
     ]
    }
   ],
   "source": [
    "# Subtract Series 1 from Series 2 and print the results\n",
    "# Created SeriesSubtract variable to contain the difference between Series2 and Series1\n",
    "SeriesSubtract = Series2-Series1\n",
    "print(SeriesSubtract)"
   ]
  }
 ],
 "metadata": {
  "kernelspec": {
   "display_name": "Python 3",
   "language": "python",
   "name": "python3"
  },
  "language_info": {
   "codemirror_mode": {
    "name": "ipython",
    "version": 3
   },
   "file_extension": ".py",
   "mimetype": "text/x-python",
   "name": "python",
   "nbconvert_exporter": "python",
   "pygments_lexer": "ipython3",
   "version": "3.8.8"
  }
 },
 "nbformat": 4,
 "nbformat_minor": 5
}
