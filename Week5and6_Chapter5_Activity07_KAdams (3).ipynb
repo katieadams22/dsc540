{
 "cells": [
  {
   "cell_type": "markdown",
   "metadata": {},
   "source": [
    "# Task 1 create a soup with bs4 and load the data to work later on it"
   ]
  },
  {
   "cell_type": "code",
   "execution_count": 2,
   "metadata": {},
   "outputs": [],
   "source": [
    "# Import BeautifulSoup from bs4 to get data out of HTML and XML and pandas libraries\n",
    "from bs4 import BeautifulSoup\n",
    "import pandas as pd"
   ]
  },
  {
   "cell_type": "code",
   "execution_count": 3,
   "metadata": {},
   "outputs": [
    {
     "data": {
      "text/html": [
       "<div>\n",
       "<style scoped>\n",
       "    .dataframe tbody tr th:only-of-type {\n",
       "        vertical-align: middle;\n",
       "    }\n",
       "\n",
       "    .dataframe tbody tr th {\n",
       "        vertical-align: top;\n",
       "    }\n",
       "\n",
       "    .dataframe thead th {\n",
       "        text-align: right;\n",
       "    }\n",
       "</style>\n",
       "<table border=\"1\" class=\"dataframe\">\n",
       "  <thead>\n",
       "    <tr style=\"text-align: right;\">\n",
       "      <th></th>\n",
       "      <th>0</th>\n",
       "    </tr>\n",
       "  </thead>\n",
       "  <tbody>\n",
       "    <tr>\n",
       "      <th>0</th>\n",
       "      <td>Largest economies by nominal GDP in 2017[1]</td>\n",
       "    </tr>\n",
       "  </tbody>\n",
       "</table>\n",
       "</div>"
      ],
      "text/plain": [
       "                                             0\n",
       "0  Largest economies by nominal GDP in 2017[1]"
      ]
     },
     "execution_count": 3,
     "metadata": {},
     "output_type": "execute_result"
    }
   ],
   "source": [
    "# Returns a list of the DataFrames using read_html\n",
    "url = \"List of countries by GDP (nominal) - Wikipedia.htm\"\n",
    "list_of_df = pd.read_html(url)\n",
    "df14 = list_of_df[0] \n",
    "df14.head()"
   ]
  },
  {
   "cell_type": "code",
   "execution_count": 4,
   "metadata": {},
   "outputs": [],
   "source": [
    "# Create fd variable that stores wikipedia HTML file by opening it and reading it\n",
    "# Included encoding='utf8' to tell open() what codec to use when reading the file\n",
    "# Created soup variable that stores BeautifulSoup function passing fd dataframe to return a string stripped of any HTML tags and metadata\n",
    "# use .close() to close the open file\n",
    "fd = open(\"List of countries by GDP (nominal) - Wikipedia.htm\", \"r\", encoding='utf8')\n",
    "soup = BeautifulSoup(fd)\n",
    "fd.close()"
   ]
  },
  {
   "cell_type": "markdown",
   "metadata": {},
   "source": [
    "# Task 2 How many tables are there?"
   ]
  },
  {
   "cell_type": "code",
   "execution_count": 5,
   "metadata": {},
   "outputs": [
    {
     "name": "stdout",
     "output_type": "stream",
     "text": [
      "Total number of tables are 9 \n"
     ]
    }
   ],
   "source": [
    "# Created all_tables variable that stores find_all function for Soup variable passing table\n",
    "# Soup variable is the stripped version of fd dataframe\n",
    "# Printed the total number of tables using the format and len functions of the all_tables variable\n",
    "all_tables = soup.find_all(\"table\")\n",
    "print(\"Total number of tables are {} \".format(len(all_tables)))"
   ]
  },
  {
   "cell_type": "markdown",
   "metadata": {},
   "source": [
    "# Task 3 find the right table using the class attribute"
   ]
  },
  {
   "cell_type": "code",
   "execution_count": 6,
   "metadata": {},
   "outputs": [
    {
     "name": "stdout",
     "output_type": "stream",
     "text": [
      "<class 'bs4.element.Tag'>\n"
     ]
    }
   ],
   "source": [
    "# Created data_table variable that stores find function for Soup variable passing table, class of wikitable\n",
    "# Printed type of data_table using type function to find the right table\n",
    "data_table = soup.find(\"table\", {\"class\": '\"wikitable\"|}'})\n",
    "print(type(data_table))"
   ]
  },
  {
   "cell_type": "markdown",
   "metadata": {},
   "source": [
    "# Task 4 Let's separate the source and the actual data"
   ]
  },
  {
   "cell_type": "code",
   "execution_count": 7,
   "metadata": {
    "collapsed": true
   },
   "outputs": [
    {
     "name": "stdout",
     "output_type": "stream",
     "text": [
      "3\n"
     ]
    }
   ],
   "source": [
    "# Created sources variable that stores the data_table variable and the tbody to group the body contents of HTML table\n",
    "# and findAll to return all non-overlapping matches of pattern in string using tr and recursive=FALSE to consider only direct children\n",
    "# To get text from every row in the table, created sources_list that stores a list of the table text\n",
    "# Print the length of the source_list list\n",
    "sources = data_table.tbody.findAll('tr', recursive=False)[0]\n",
    "sources_list = [td for td in sources.findAll('td')]\n",
    "print(len(sources_list))"
   ]
  },
  {
   "cell_type": "code",
   "execution_count": 8,
   "metadata": {},
   "outputs": [],
   "source": [
    "# Created data variable that stores the data_table variable and the tbody to group the body contents of HTML table\n",
    "# and findAll to return all non-overlapping matches of pattern in string using tr and td and recursive=FALSE to consider only direct children\n",
    "data = data_table.tbody.findAll('tr', recursive=False)[1].findAll('td', recursive=False)"
   ]
  },
  {
   "cell_type": "code",
   "execution_count": 9,
   "metadata": {},
   "outputs": [],
   "source": [
    "# Created a data_tables list and a for loop that iterates on data_tables and the append function\n",
    "data_tables = []\n",
    "for td in data:\n",
    "    data_tables.append(td.findAll('table'))"
   ]
  },
  {
   "cell_type": "code",
   "execution_count": 10,
   "metadata": {},
   "outputs": [
    {
     "data": {
      "text/plain": [
       "3"
      ]
     },
     "execution_count": 10,
     "metadata": {},
     "output_type": "execute_result"
    }
   ],
   "source": [
    "# Used len to find the length of the data_tables list\n",
    "len(data_tables)"
   ]
  },
  {
   "cell_type": "markdown",
   "metadata": {},
   "source": [
    "# Task 5 Checking how to get the source names"
   ]
  },
  {
   "cell_type": "code",
   "execution_count": 11,
   "metadata": {},
   "outputs": [
    {
     "name": "stdout",
     "output_type": "stream",
     "text": [
      "['International Monetary Fund', 'World Bank', 'United Nations']\n"
     ]
    }
   ],
   "source": [
    "# Created source_names list to find the source names using findAll and getText for source in source_list\n",
    "source_names = [source.findAll('a')[0].getText() for source in sources_list]\n",
    "# Printed source_names variable to check the source names\n",
    "print(source_names)"
   ]
  },
  {
   "cell_type": "markdown",
   "metadata": {},
   "source": [
    "# Task 6 Seperate the header and data for the first source"
   ]
  },
  {
   "cell_type": "code",
   "execution_count": 12,
   "metadata": {},
   "outputs": [
    {
     "data": {
      "text/plain": [
       "['Rank', 'Country', 'GDP(US$MM)']"
      ]
     },
     "execution_count": 12,
     "metadata": {},
     "output_type": "execute_result"
    }
   ],
   "source": [
    "# To seperate header and data for first source, created header1 variable to create the header names from the data_tables variable\n",
    "# header1 contains th to extract the header names from data_tables\n",
    "header1 = [th.getText().strip() for th in data_tables[0][0].findAll('thead')[0].findAll('th')]\n",
    "header1"
   ]
  },
  {
   "cell_type": "code",
   "execution_count": 13,
   "metadata": {},
   "outputs": [],
   "source": [
    "# Created rows1 variable that stores the data_tables variable and the tbody to group the body contents of HTML table\n",
    "# and findAll to return all non-overlapping matches of pattern in string using tr\n",
    "# To find the row information, tr iterates on every row of the data\n",
    "rows1 = data_tables[0][0].findAll('tbody')[0].findAll('tr')[1:]"
   ]
  },
  {
   "cell_type": "code",
   "execution_count": 14,
   "metadata": {},
   "outputs": [],
   "source": [
    "# Created data_rows1 that stores the data from rows1\n",
    "# using td, obtain every cell value in the row\n",
    "data_rows1 = [[td.get_text().strip() for td in tr.findAll('td')] for tr in rows1]"
   ]
  },
  {
   "cell_type": "code",
   "execution_count": 15,
   "metadata": {},
   "outputs": [],
   "source": [
    "# Created df1 dataframe using pandas dataframe function and passing data_rows1 and indicating the columns are header1\n",
    "df1 = pd.DataFrame(data_rows1, columns=header1)"
   ]
  },
  {
   "cell_type": "code",
   "execution_count": 16,
   "metadata": {},
   "outputs": [
    {
     "data": {
      "text/html": [
       "<div>\n",
       "<style scoped>\n",
       "    .dataframe tbody tr th:only-of-type {\n",
       "        vertical-align: middle;\n",
       "    }\n",
       "\n",
       "    .dataframe tbody tr th {\n",
       "        vertical-align: top;\n",
       "    }\n",
       "\n",
       "    .dataframe thead th {\n",
       "        text-align: right;\n",
       "    }\n",
       "</style>\n",
       "<table border=\"1\" class=\"dataframe\">\n",
       "  <thead>\n",
       "    <tr style=\"text-align: right;\">\n",
       "      <th></th>\n",
       "      <th>Rank</th>\n",
       "      <th>Country</th>\n",
       "      <th>GDP(US$MM)</th>\n",
       "    </tr>\n",
       "  </thead>\n",
       "  <tbody>\n",
       "    <tr>\n",
       "      <th>0</th>\n",
       "      <td>1</td>\n",
       "      <td>United States</td>\n",
       "      <td>19,390,600</td>\n",
       "    </tr>\n",
       "    <tr>\n",
       "      <th>1</th>\n",
       "      <td>2</td>\n",
       "      <td>China[n 1]</td>\n",
       "      <td>12,014,610</td>\n",
       "    </tr>\n",
       "    <tr>\n",
       "      <th>2</th>\n",
       "      <td>3</td>\n",
       "      <td>Japan</td>\n",
       "      <td>4,872,135</td>\n",
       "    </tr>\n",
       "    <tr>\n",
       "      <th>3</th>\n",
       "      <td>4</td>\n",
       "      <td>Germany</td>\n",
       "      <td>3,684,816</td>\n",
       "    </tr>\n",
       "    <tr>\n",
       "      <th>4</th>\n",
       "      <td>5</td>\n",
       "      <td>United Kingdom</td>\n",
       "      <td>2,624,529</td>\n",
       "    </tr>\n",
       "  </tbody>\n",
       "</table>\n",
       "</div>"
      ],
      "text/plain": [
       "  Rank         Country  GDP(US$MM)\n",
       "0    1   United States  19,390,600\n",
       "1    2      China[n 1]  12,014,610\n",
       "2    3           Japan   4,872,135\n",
       "3    4         Germany   3,684,816\n",
       "4    5  United Kingdom   2,624,529"
      ]
     },
     "execution_count": 16,
     "metadata": {},
     "output_type": "execute_result"
    }
   ],
   "source": [
    "# Displayed the first 5 rows of the dataframe\n",
    "df1.head()"
   ]
  },
  {
   "cell_type": "markdown",
   "metadata": {},
   "source": [
    "# Task 7 Do the same for the other two sources"
   ]
  },
  {
   "cell_type": "code",
   "execution_count": 21,
   "metadata": {},
   "outputs": [
    {
     "data": {
      "text/plain": [
       "['Rank', 'Country', 'GDP(US$MM)']"
      ]
     },
     "execution_count": 21,
     "metadata": {},
     "output_type": "execute_result"
    }
   ],
   "source": [
    "# Created header2 to create the header names from the data_tables variable\n",
    "# header2 contains th to extract the header names from data_tables\n",
    "header2 = [th.getText().strip() for th in data_tables[1][0].findAll('thead')[0].findAll('th')]\n",
    "header2"
   ]
  },
  {
   "cell_type": "code",
   "execution_count": 22,
   "metadata": {},
   "outputs": [],
   "source": [
    "# Created rows2 to create the row data\n",
    "# To find the row information, tr iterates on every row of the data\n",
    "rows2 = data_tables[1][0].findAll('tbody')[0].findAll('tr')[1:]"
   ]
  },
  {
   "cell_type": "code",
   "execution_count": 23,
   "metadata": {},
   "outputs": [],
   "source": [
    "# Created a function of find_right_text which is an if, elif, and else statements\n",
    "# If i=0, then the function will return stripped text\n",
    "# If i=1, then function will return stripped text\n",
    "# Otherwise, the function will return an index of finding text and then return the stripped text with an index\n",
    "def find_right_text(i, td):\n",
    "    if i == 0:\n",
    "        return td.getText().strip()\n",
    "    elif i == 1:\n",
    "        return td.getText().strip()\n",
    "    else:\n",
    "        index = td.text.find(\"♠\")\n",
    "        return td.text[index+1:].strip()"
   ]
  },
  {
   "cell_type": "code",
   "execution_count": 24,
   "metadata": {},
   "outputs": [],
   "source": [
    "# Created data_rows2 that stores the data from rows2\n",
    "# using td, obtain every cell value in the row\n",
    "data_rows2 = [[find_right_text(i, td) for i, td in enumerate(tr.findAll('td'))] for tr in rows2]"
   ]
  },
  {
   "cell_type": "code",
   "execution_count": 25,
   "metadata": {},
   "outputs": [],
   "source": [
    "# Created df2 dataframe using pandas dataframe function and passing data_rows2 for data and indicating the columns are header1\n",
    "df2 = pd.DataFrame(data_rows2, columns=header2)"
   ]
  },
  {
   "cell_type": "code",
   "execution_count": 27,
   "metadata": {},
   "outputs": [
    {
     "data": {
      "text/html": [
       "<div>\n",
       "<style scoped>\n",
       "    .dataframe tbody tr th:only-of-type {\n",
       "        vertical-align: middle;\n",
       "    }\n",
       "\n",
       "    .dataframe tbody tr th {\n",
       "        vertical-align: top;\n",
       "    }\n",
       "\n",
       "    .dataframe thead th {\n",
       "        text-align: right;\n",
       "    }\n",
       "</style>\n",
       "<table border=\"1\" class=\"dataframe\">\n",
       "  <thead>\n",
       "    <tr style=\"text-align: right;\">\n",
       "      <th></th>\n",
       "      <th>Rank</th>\n",
       "      <th>Country</th>\n",
       "      <th>GDP(US$MM)</th>\n",
       "    </tr>\n",
       "  </thead>\n",
       "  <tbody>\n",
       "    <tr>\n",
       "      <th>0</th>\n",
       "      <td>1</td>\n",
       "      <td>United States</td>\n",
       "      <td>19,390,604</td>\n",
       "    </tr>\n",
       "    <tr>\n",
       "      <th>1</th>\n",
       "      <td></td>\n",
       "      <td>European Union[23]</td>\n",
       "      <td>17,277,698</td>\n",
       "    </tr>\n",
       "    <tr>\n",
       "      <th>2</th>\n",
       "      <td>2</td>\n",
       "      <td>China[n 4]</td>\n",
       "      <td>12,237,700</td>\n",
       "    </tr>\n",
       "    <tr>\n",
       "      <th>3</th>\n",
       "      <td>3</td>\n",
       "      <td>Japan</td>\n",
       "      <td>4,872,137</td>\n",
       "    </tr>\n",
       "    <tr>\n",
       "      <th>4</th>\n",
       "      <td>4</td>\n",
       "      <td>Germany</td>\n",
       "      <td>3,677,439</td>\n",
       "    </tr>\n",
       "  </tbody>\n",
       "</table>\n",
       "</div>"
      ],
      "text/plain": [
       "  Rank             Country  GDP(US$MM)\n",
       "0    1       United States  19,390,604\n",
       "1       European Union[23]  17,277,698\n",
       "2    2          China[n 4]  12,237,700\n",
       "3    3               Japan   4,872,137\n",
       "4    4             Germany   3,677,439"
      ]
     },
     "execution_count": 27,
     "metadata": {},
     "output_type": "execute_result"
    }
   ],
   "source": [
    "# Displayed the first 5 rows of the dataframe\n",
    "df2.head()"
   ]
  },
  {
   "cell_type": "code",
   "execution_count": 32,
   "metadata": {},
   "outputs": [
    {
     "data": {
      "text/plain": [
       "['Rank', 'Country', 'GDP(US$MM)']"
      ]
     },
     "execution_count": 32,
     "metadata": {},
     "output_type": "execute_result"
    }
   ],
   "source": [
    "# Created header3 to create the header names from the data_tables variable\n",
    "# header3 contains th to extract the header names from data_tables\n",
    "header3 = [th.getText().strip() for th in data_tables[2][0].findAll('thead')[0].findAll('th')]\n",
    "header3"
   ]
  },
  {
   "cell_type": "code",
   "execution_count": 33,
   "metadata": {},
   "outputs": [],
   "source": [
    "# Created rows3 to create the row data\n",
    "# To find the row information, tr iterates on every row of the data\n",
    "rows3 = data_tables[2][0].findAll('tbody')[0].findAll('tr')[1:]"
   ]
  },
  {
   "cell_type": "code",
   "execution_count": 34,
   "metadata": {},
   "outputs": [],
   "source": [
    "# Created data_rows3 that stores the data from rows2 to create rows\n",
    "# using td, obtain every cell value in the row\n",
    "data_rows3 = [[find_right_text(i, td) for i, td in enumerate(tr.findAll('td'))] for tr in rows2]"
   ]
  },
  {
   "cell_type": "code",
   "execution_count": 35,
   "metadata": {},
   "outputs": [
    {
     "data": {
      "text/html": [
       "<div>\n",
       "<style scoped>\n",
       "    .dataframe tbody tr th:only-of-type {\n",
       "        vertical-align: middle;\n",
       "    }\n",
       "\n",
       "    .dataframe tbody tr th {\n",
       "        vertical-align: top;\n",
       "    }\n",
       "\n",
       "    .dataframe thead th {\n",
       "        text-align: right;\n",
       "    }\n",
       "</style>\n",
       "<table border=\"1\" class=\"dataframe\">\n",
       "  <thead>\n",
       "    <tr style=\"text-align: right;\">\n",
       "      <th></th>\n",
       "      <th>Rank</th>\n",
       "      <th>Country</th>\n",
       "      <th>GDP(US$MM)</th>\n",
       "    </tr>\n",
       "  </thead>\n",
       "  <tbody>\n",
       "    <tr>\n",
       "      <th>0</th>\n",
       "      <td>1</td>\n",
       "      <td>United States</td>\n",
       "      <td>19,390,604</td>\n",
       "    </tr>\n",
       "    <tr>\n",
       "      <th>1</th>\n",
       "      <td></td>\n",
       "      <td>European Union[23]</td>\n",
       "      <td>17,277,698</td>\n",
       "    </tr>\n",
       "    <tr>\n",
       "      <th>2</th>\n",
       "      <td>2</td>\n",
       "      <td>China[n 4]</td>\n",
       "      <td>12,237,700</td>\n",
       "    </tr>\n",
       "    <tr>\n",
       "      <th>3</th>\n",
       "      <td>3</td>\n",
       "      <td>Japan</td>\n",
       "      <td>4,872,137</td>\n",
       "    </tr>\n",
       "    <tr>\n",
       "      <th>4</th>\n",
       "      <td>4</td>\n",
       "      <td>Germany</td>\n",
       "      <td>3,677,439</td>\n",
       "    </tr>\n",
       "  </tbody>\n",
       "</table>\n",
       "</div>"
      ],
      "text/plain": [
       "  Rank             Country  GDP(US$MM)\n",
       "0    1       United States  19,390,604\n",
       "1       European Union[23]  17,277,698\n",
       "2    2          China[n 4]  12,237,700\n",
       "3    3               Japan   4,872,137\n",
       "4    4             Germany   3,677,439"
      ]
     },
     "execution_count": 35,
     "metadata": {},
     "output_type": "execute_result"
    }
   ],
   "source": [
    "# Created df2 dataframe using pandas dataframe function and passing data_rows2 for data and indicating the columns are header1\n",
    "# Displayed the first 5 rows of the dataframe\n",
    "df3 = pd.DataFrame(data_rows3, columns=header3)\n",
    "df3.head()"
   ]
  },
  {
   "cell_type": "code",
   "execution_count": null,
   "metadata": {},
   "outputs": [],
   "source": []
  }
 ],
 "metadata": {
  "kernelspec": {
   "display_name": "Python 3",
   "language": "python",
   "name": "python3"
  },
  "language_info": {
   "codemirror_mode": {
    "name": "ipython",
    "version": 3
   },
   "file_extension": ".py",
   "mimetype": "text/x-python",
   "name": "python",
   "nbconvert_exporter": "python",
   "pygments_lexer": "ipython3",
   "version": "3.8.8"
  }
 },
 "nbformat": 4,
 "nbformat_minor": 2
}
